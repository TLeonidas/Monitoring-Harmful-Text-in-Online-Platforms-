{
  "nbformat": 4,
  "nbformat_minor": 0,
  "metadata": {
    "colab": {
      "provenance": [],
      "machine_shape": "hm",
      "gpuType": "T4",
      "toc_visible": true
    },
    "kernelspec": {
      "name": "python3",
      "display_name": "Python 3"
    },
    "language_info": {
      "name": "python"
    },
    "widgets": {
      "application/vnd.jupyter.widget-state+json": {
        "6685418146dc475bb56d9aefc7526f70": {
          "model_module": "@jupyter-widgets/controls",
          "model_name": "HBoxModel",
          "model_module_version": "1.5.0",
          "state": {
            "_dom_classes": [],
            "_model_module": "@jupyter-widgets/controls",
            "_model_module_version": "1.5.0",
            "_model_name": "HBoxModel",
            "_view_count": null,
            "_view_module": "@jupyter-widgets/controls",
            "_view_module_version": "1.5.0",
            "_view_name": "HBoxView",
            "box_style": "",
            "children": [
              "IPY_MODEL_7d6d639b3ba94ceda9b3ad3acb36e240",
              "IPY_MODEL_11bd32f1c89e48728a3a767c201a3d8e",
              "IPY_MODEL_8241c2fb79b946ae8a62e9b9913ee7ac"
            ],
            "layout": "IPY_MODEL_16f62541a58d4762ab20f13f80899f94"
          }
        },
        "7d6d639b3ba94ceda9b3ad3acb36e240": {
          "model_module": "@jupyter-widgets/controls",
          "model_name": "HTMLModel",
          "model_module_version": "1.5.0",
          "state": {
            "_dom_classes": [],
            "_model_module": "@jupyter-widgets/controls",
            "_model_module_version": "1.5.0",
            "_model_name": "HTMLModel",
            "_view_count": null,
            "_view_module": "@jupyter-widgets/controls",
            "_view_module_version": "1.5.0",
            "_view_name": "HTMLView",
            "description": "",
            "description_tooltip": null,
            "layout": "IPY_MODEL_2483e69e6cfc4069b37e966aeb21c830",
            "placeholder": "​",
            "style": "IPY_MODEL_d9e93cda4d174ccc9d1a4249aa944867",
            "value": "Downloading readme: 100%"
          }
        },
        "11bd32f1c89e48728a3a767c201a3d8e": {
          "model_module": "@jupyter-widgets/controls",
          "model_name": "FloatProgressModel",
          "model_module_version": "1.5.0",
          "state": {
            "_dom_classes": [],
            "_model_module": "@jupyter-widgets/controls",
            "_model_module_version": "1.5.0",
            "_model_name": "FloatProgressModel",
            "_view_count": null,
            "_view_module": "@jupyter-widgets/controls",
            "_view_module_version": "1.5.0",
            "_view_name": "ProgressView",
            "bar_style": "success",
            "description": "",
            "description_tooltip": null,
            "layout": "IPY_MODEL_96ec4dec372d4e86a29a66d933513054",
            "max": 552,
            "min": 0,
            "orientation": "horizontal",
            "style": "IPY_MODEL_d9fbf6855c11494886b7d7a8db2b15cc",
            "value": 552
          }
        },
        "8241c2fb79b946ae8a62e9b9913ee7ac": {
          "model_module": "@jupyter-widgets/controls",
          "model_name": "HTMLModel",
          "model_module_version": "1.5.0",
          "state": {
            "_dom_classes": [],
            "_model_module": "@jupyter-widgets/controls",
            "_model_module_version": "1.5.0",
            "_model_name": "HTMLModel",
            "_view_count": null,
            "_view_module": "@jupyter-widgets/controls",
            "_view_module_version": "1.5.0",
            "_view_name": "HTMLView",
            "description": "",
            "description_tooltip": null,
            "layout": "IPY_MODEL_235a0768a6694d6b9e8b8c9ad0229d84",
            "placeholder": "​",
            "style": "IPY_MODEL_cc6107db9aa94abab2120b3198dda0a6",
            "value": " 552/552 [00:00&lt;00:00, 40.2kB/s]"
          }
        },
        "16f62541a58d4762ab20f13f80899f94": {
          "model_module": "@jupyter-widgets/base",
          "model_name": "LayoutModel",
          "model_module_version": "1.2.0",
          "state": {
            "_model_module": "@jupyter-widgets/base",
            "_model_module_version": "1.2.0",
            "_model_name": "LayoutModel",
            "_view_count": null,
            "_view_module": "@jupyter-widgets/base",
            "_view_module_version": "1.2.0",
            "_view_name": "LayoutView",
            "align_content": null,
            "align_items": null,
            "align_self": null,
            "border": null,
            "bottom": null,
            "display": null,
            "flex": null,
            "flex_flow": null,
            "grid_area": null,
            "grid_auto_columns": null,
            "grid_auto_flow": null,
            "grid_auto_rows": null,
            "grid_column": null,
            "grid_gap": null,
            "grid_row": null,
            "grid_template_areas": null,
            "grid_template_columns": null,
            "grid_template_rows": null,
            "height": null,
            "justify_content": null,
            "justify_items": null,
            "left": null,
            "margin": null,
            "max_height": null,
            "max_width": null,
            "min_height": null,
            "min_width": null,
            "object_fit": null,
            "object_position": null,
            "order": null,
            "overflow": null,
            "overflow_x": null,
            "overflow_y": null,
            "padding": null,
            "right": null,
            "top": null,
            "visibility": null,
            "width": null
          }
        },
        "2483e69e6cfc4069b37e966aeb21c830": {
          "model_module": "@jupyter-widgets/base",
          "model_name": "LayoutModel",
          "model_module_version": "1.2.0",
          "state": {
            "_model_module": "@jupyter-widgets/base",
            "_model_module_version": "1.2.0",
            "_model_name": "LayoutModel",
            "_view_count": null,
            "_view_module": "@jupyter-widgets/base",
            "_view_module_version": "1.2.0",
            "_view_name": "LayoutView",
            "align_content": null,
            "align_items": null,
            "align_self": null,
            "border": null,
            "bottom": null,
            "display": null,
            "flex": null,
            "flex_flow": null,
            "grid_area": null,
            "grid_auto_columns": null,
            "grid_auto_flow": null,
            "grid_auto_rows": null,
            "grid_column": null,
            "grid_gap": null,
            "grid_row": null,
            "grid_template_areas": null,
            "grid_template_columns": null,
            "grid_template_rows": null,
            "height": null,
            "justify_content": null,
            "justify_items": null,
            "left": null,
            "margin": null,
            "max_height": null,
            "max_width": null,
            "min_height": null,
            "min_width": null,
            "object_fit": null,
            "object_position": null,
            "order": null,
            "overflow": null,
            "overflow_x": null,
            "overflow_y": null,
            "padding": null,
            "right": null,
            "top": null,
            "visibility": null,
            "width": null
          }
        },
        "d9e93cda4d174ccc9d1a4249aa944867": {
          "model_module": "@jupyter-widgets/controls",
          "model_name": "DescriptionStyleModel",
          "model_module_version": "1.5.0",
          "state": {
            "_model_module": "@jupyter-widgets/controls",
            "_model_module_version": "1.5.0",
            "_model_name": "DescriptionStyleModel",
            "_view_count": null,
            "_view_module": "@jupyter-widgets/base",
            "_view_module_version": "1.2.0",
            "_view_name": "StyleView",
            "description_width": ""
          }
        },
        "96ec4dec372d4e86a29a66d933513054": {
          "model_module": "@jupyter-widgets/base",
          "model_name": "LayoutModel",
          "model_module_version": "1.2.0",
          "state": {
            "_model_module": "@jupyter-widgets/base",
            "_model_module_version": "1.2.0",
            "_model_name": "LayoutModel",
            "_view_count": null,
            "_view_module": "@jupyter-widgets/base",
            "_view_module_version": "1.2.0",
            "_view_name": "LayoutView",
            "align_content": null,
            "align_items": null,
            "align_self": null,
            "border": null,
            "bottom": null,
            "display": null,
            "flex": null,
            "flex_flow": null,
            "grid_area": null,
            "grid_auto_columns": null,
            "grid_auto_flow": null,
            "grid_auto_rows": null,
            "grid_column": null,
            "grid_gap": null,
            "grid_row": null,
            "grid_template_areas": null,
            "grid_template_columns": null,
            "grid_template_rows": null,
            "height": null,
            "justify_content": null,
            "justify_items": null,
            "left": null,
            "margin": null,
            "max_height": null,
            "max_width": null,
            "min_height": null,
            "min_width": null,
            "object_fit": null,
            "object_position": null,
            "order": null,
            "overflow": null,
            "overflow_x": null,
            "overflow_y": null,
            "padding": null,
            "right": null,
            "top": null,
            "visibility": null,
            "width": null
          }
        },
        "d9fbf6855c11494886b7d7a8db2b15cc": {
          "model_module": "@jupyter-widgets/controls",
          "model_name": "ProgressStyleModel",
          "model_module_version": "1.5.0",
          "state": {
            "_model_module": "@jupyter-widgets/controls",
            "_model_module_version": "1.5.0",
            "_model_name": "ProgressStyleModel",
            "_view_count": null,
            "_view_module": "@jupyter-widgets/base",
            "_view_module_version": "1.2.0",
            "_view_name": "StyleView",
            "bar_color": null,
            "description_width": ""
          }
        },
        "235a0768a6694d6b9e8b8c9ad0229d84": {
          "model_module": "@jupyter-widgets/base",
          "model_name": "LayoutModel",
          "model_module_version": "1.2.0",
          "state": {
            "_model_module": "@jupyter-widgets/base",
            "_model_module_version": "1.2.0",
            "_model_name": "LayoutModel",
            "_view_count": null,
            "_view_module": "@jupyter-widgets/base",
            "_view_module_version": "1.2.0",
            "_view_name": "LayoutView",
            "align_content": null,
            "align_items": null,
            "align_self": null,
            "border": null,
            "bottom": null,
            "display": null,
            "flex": null,
            "flex_flow": null,
            "grid_area": null,
            "grid_auto_columns": null,
            "grid_auto_flow": null,
            "grid_auto_rows": null,
            "grid_column": null,
            "grid_gap": null,
            "grid_row": null,
            "grid_template_areas": null,
            "grid_template_columns": null,
            "grid_template_rows": null,
            "height": null,
            "justify_content": null,
            "justify_items": null,
            "left": null,
            "margin": null,
            "max_height": null,
            "max_width": null,
            "min_height": null,
            "min_width": null,
            "object_fit": null,
            "object_position": null,
            "order": null,
            "overflow": null,
            "overflow_x": null,
            "overflow_y": null,
            "padding": null,
            "right": null,
            "top": null,
            "visibility": null,
            "width": null
          }
        },
        "cc6107db9aa94abab2120b3198dda0a6": {
          "model_module": "@jupyter-widgets/controls",
          "model_name": "DescriptionStyleModel",
          "model_module_version": "1.5.0",
          "state": {
            "_model_module": "@jupyter-widgets/controls",
            "_model_module_version": "1.5.0",
            "_model_name": "DescriptionStyleModel",
            "_view_count": null,
            "_view_module": "@jupyter-widgets/base",
            "_view_module_version": "1.2.0",
            "_view_name": "StyleView",
            "description_width": ""
          }
        },
        "35a3c02ebc86471fa64e7dda56b4d2d0": {
          "model_module": "@jupyter-widgets/controls",
          "model_name": "HBoxModel",
          "model_module_version": "1.5.0",
          "state": {
            "_dom_classes": [],
            "_model_module": "@jupyter-widgets/controls",
            "_model_module_version": "1.5.0",
            "_model_name": "HBoxModel",
            "_view_count": null,
            "_view_module": "@jupyter-widgets/controls",
            "_view_module_version": "1.5.0",
            "_view_name": "HBoxView",
            "box_style": "",
            "children": [
              "IPY_MODEL_c83bb1e53e5346d58b5bc089b08a73ca",
              "IPY_MODEL_a3779d829ee54083a22d32c340b92c51",
              "IPY_MODEL_e874c26d95f841d9a70765f2e0c52bfe"
            ],
            "layout": "IPY_MODEL_effbba90994844f4825f457a9ac36237"
          }
        },
        "c83bb1e53e5346d58b5bc089b08a73ca": {
          "model_module": "@jupyter-widgets/controls",
          "model_name": "HTMLModel",
          "model_module_version": "1.5.0",
          "state": {
            "_dom_classes": [],
            "_model_module": "@jupyter-widgets/controls",
            "_model_module_version": "1.5.0",
            "_model_name": "HTMLModel",
            "_view_count": null,
            "_view_module": "@jupyter-widgets/controls",
            "_view_module_version": "1.5.0",
            "_view_name": "HTMLView",
            "description": "",
            "description_tooltip": null,
            "layout": "IPY_MODEL_a7c67df5101f4a4797943236e2a865dd",
            "placeholder": "​",
            "style": "IPY_MODEL_de38f915634f47b899e1fe6f84a486cc",
            "value": "Downloading data: 100%"
          }
        },
        "a3779d829ee54083a22d32c340b92c51": {
          "model_module": "@jupyter-widgets/controls",
          "model_name": "FloatProgressModel",
          "model_module_version": "1.5.0",
          "state": {
            "_dom_classes": [],
            "_model_module": "@jupyter-widgets/controls",
            "_model_module_version": "1.5.0",
            "_model_name": "FloatProgressModel",
            "_view_count": null,
            "_view_module": "@jupyter-widgets/controls",
            "_view_module_version": "1.5.0",
            "_view_name": "ProgressView",
            "bar_style": "success",
            "description": "",
            "description_tooltip": null,
            "layout": "IPY_MODEL_b7d9e0a8b17e46b0aef740dbe0f653b5",
            "max": 38711705,
            "min": 0,
            "orientation": "horizontal",
            "style": "IPY_MODEL_69eb85674dee40c2b01469b0617d16dd",
            "value": 38711705
          }
        },
        "e874c26d95f841d9a70765f2e0c52bfe": {
          "model_module": "@jupyter-widgets/controls",
          "model_name": "HTMLModel",
          "model_module_version": "1.5.0",
          "state": {
            "_dom_classes": [],
            "_model_module": "@jupyter-widgets/controls",
            "_model_module_version": "1.5.0",
            "_model_name": "HTMLModel",
            "_view_count": null,
            "_view_module": "@jupyter-widgets/controls",
            "_view_module_version": "1.5.0",
            "_view_name": "HTMLView",
            "description": "",
            "description_tooltip": null,
            "layout": "IPY_MODEL_7bc85b453f154aed9e50cacf51ff6c12",
            "placeholder": "​",
            "style": "IPY_MODEL_a441cf41631b432e87e1d002384b2d81",
            "value": " 38.7M/38.7M [00:06&lt;00:00, 7.07MB/s]"
          }
        },
        "effbba90994844f4825f457a9ac36237": {
          "model_module": "@jupyter-widgets/base",
          "model_name": "LayoutModel",
          "model_module_version": "1.2.0",
          "state": {
            "_model_module": "@jupyter-widgets/base",
            "_model_module_version": "1.2.0",
            "_model_name": "LayoutModel",
            "_view_count": null,
            "_view_module": "@jupyter-widgets/base",
            "_view_module_version": "1.2.0",
            "_view_name": "LayoutView",
            "align_content": null,
            "align_items": null,
            "align_self": null,
            "border": null,
            "bottom": null,
            "display": null,
            "flex": null,
            "flex_flow": null,
            "grid_area": null,
            "grid_auto_columns": null,
            "grid_auto_flow": null,
            "grid_auto_rows": null,
            "grid_column": null,
            "grid_gap": null,
            "grid_row": null,
            "grid_template_areas": null,
            "grid_template_columns": null,
            "grid_template_rows": null,
            "height": null,
            "justify_content": null,
            "justify_items": null,
            "left": null,
            "margin": null,
            "max_height": null,
            "max_width": null,
            "min_height": null,
            "min_width": null,
            "object_fit": null,
            "object_position": null,
            "order": null,
            "overflow": null,
            "overflow_x": null,
            "overflow_y": null,
            "padding": null,
            "right": null,
            "top": null,
            "visibility": null,
            "width": null
          }
        },
        "a7c67df5101f4a4797943236e2a865dd": {
          "model_module": "@jupyter-widgets/base",
          "model_name": "LayoutModel",
          "model_module_version": "1.2.0",
          "state": {
            "_model_module": "@jupyter-widgets/base",
            "_model_module_version": "1.2.0",
            "_model_name": "LayoutModel",
            "_view_count": null,
            "_view_module": "@jupyter-widgets/base",
            "_view_module_version": "1.2.0",
            "_view_name": "LayoutView",
            "align_content": null,
            "align_items": null,
            "align_self": null,
            "border": null,
            "bottom": null,
            "display": null,
            "flex": null,
            "flex_flow": null,
            "grid_area": null,
            "grid_auto_columns": null,
            "grid_auto_flow": null,
            "grid_auto_rows": null,
            "grid_column": null,
            "grid_gap": null,
            "grid_row": null,
            "grid_template_areas": null,
            "grid_template_columns": null,
            "grid_template_rows": null,
            "height": null,
            "justify_content": null,
            "justify_items": null,
            "left": null,
            "margin": null,
            "max_height": null,
            "max_width": null,
            "min_height": null,
            "min_width": null,
            "object_fit": null,
            "object_position": null,
            "order": null,
            "overflow": null,
            "overflow_x": null,
            "overflow_y": null,
            "padding": null,
            "right": null,
            "top": null,
            "visibility": null,
            "width": null
          }
        },
        "de38f915634f47b899e1fe6f84a486cc": {
          "model_module": "@jupyter-widgets/controls",
          "model_name": "DescriptionStyleModel",
          "model_module_version": "1.5.0",
          "state": {
            "_model_module": "@jupyter-widgets/controls",
            "_model_module_version": "1.5.0",
            "_model_name": "DescriptionStyleModel",
            "_view_count": null,
            "_view_module": "@jupyter-widgets/base",
            "_view_module_version": "1.2.0",
            "_view_name": "StyleView",
            "description_width": ""
          }
        },
        "b7d9e0a8b17e46b0aef740dbe0f653b5": {
          "model_module": "@jupyter-widgets/base",
          "model_name": "LayoutModel",
          "model_module_version": "1.2.0",
          "state": {
            "_model_module": "@jupyter-widgets/base",
            "_model_module_version": "1.2.0",
            "_model_name": "LayoutModel",
            "_view_count": null,
            "_view_module": "@jupyter-widgets/base",
            "_view_module_version": "1.2.0",
            "_view_name": "LayoutView",
            "align_content": null,
            "align_items": null,
            "align_self": null,
            "border": null,
            "bottom": null,
            "display": null,
            "flex": null,
            "flex_flow": null,
            "grid_area": null,
            "grid_auto_columns": null,
            "grid_auto_flow": null,
            "grid_auto_rows": null,
            "grid_column": null,
            "grid_gap": null,
            "grid_row": null,
            "grid_template_areas": null,
            "grid_template_columns": null,
            "grid_template_rows": null,
            "height": null,
            "justify_content": null,
            "justify_items": null,
            "left": null,
            "margin": null,
            "max_height": null,
            "max_width": null,
            "min_height": null,
            "min_width": null,
            "object_fit": null,
            "object_position": null,
            "order": null,
            "overflow": null,
            "overflow_x": null,
            "overflow_y": null,
            "padding": null,
            "right": null,
            "top": null,
            "visibility": null,
            "width": null
          }
        },
        "69eb85674dee40c2b01469b0617d16dd": {
          "model_module": "@jupyter-widgets/controls",
          "model_name": "ProgressStyleModel",
          "model_module_version": "1.5.0",
          "state": {
            "_model_module": "@jupyter-widgets/controls",
            "_model_module_version": "1.5.0",
            "_model_name": "ProgressStyleModel",
            "_view_count": null,
            "_view_module": "@jupyter-widgets/base",
            "_view_module_version": "1.2.0",
            "_view_name": "StyleView",
            "bar_color": null,
            "description_width": ""
          }
        },
        "7bc85b453f154aed9e50cacf51ff6c12": {
          "model_module": "@jupyter-widgets/base",
          "model_name": "LayoutModel",
          "model_module_version": "1.2.0",
          "state": {
            "_model_module": "@jupyter-widgets/base",
            "_model_module_version": "1.2.0",
            "_model_name": "LayoutModel",
            "_view_count": null,
            "_view_module": "@jupyter-widgets/base",
            "_view_module_version": "1.2.0",
            "_view_name": "LayoutView",
            "align_content": null,
            "align_items": null,
            "align_self": null,
            "border": null,
            "bottom": null,
            "display": null,
            "flex": null,
            "flex_flow": null,
            "grid_area": null,
            "grid_auto_columns": null,
            "grid_auto_flow": null,
            "grid_auto_rows": null,
            "grid_column": null,
            "grid_gap": null,
            "grid_row": null,
            "grid_template_areas": null,
            "grid_template_columns": null,
            "grid_template_rows": null,
            "height": null,
            "justify_content": null,
            "justify_items": null,
            "left": null,
            "margin": null,
            "max_height": null,
            "max_width": null,
            "min_height": null,
            "min_width": null,
            "object_fit": null,
            "object_position": null,
            "order": null,
            "overflow": null,
            "overflow_x": null,
            "overflow_y": null,
            "padding": null,
            "right": null,
            "top": null,
            "visibility": null,
            "width": null
          }
        },
        "a441cf41631b432e87e1d002384b2d81": {
          "model_module": "@jupyter-widgets/controls",
          "model_name": "DescriptionStyleModel",
          "model_module_version": "1.5.0",
          "state": {
            "_model_module": "@jupyter-widgets/controls",
            "_model_module_version": "1.5.0",
            "_model_name": "DescriptionStyleModel",
            "_view_count": null,
            "_view_module": "@jupyter-widgets/base",
            "_view_module_version": "1.2.0",
            "_view_name": "StyleView",
            "description_width": ""
          }
        },
        "3c9c769ccb134ad69b25384e9cb24878": {
          "model_module": "@jupyter-widgets/controls",
          "model_name": "HBoxModel",
          "model_module_version": "1.5.0",
          "state": {
            "_dom_classes": [],
            "_model_module": "@jupyter-widgets/controls",
            "_model_module_version": "1.5.0",
            "_model_name": "HBoxModel",
            "_view_count": null,
            "_view_module": "@jupyter-widgets/controls",
            "_view_module_version": "1.5.0",
            "_view_name": "HBoxView",
            "box_style": "",
            "children": [
              "IPY_MODEL_1d1d225ca55d463d81e22e312e5c0aec",
              "IPY_MODEL_2fed8ca0dc0143ca8aaba657ce74c4f8",
              "IPY_MODEL_2c44ad3372a74b6180ebc7115c98e8fb"
            ],
            "layout": "IPY_MODEL_844bc43a41934fb3ad78ab634625a394"
          }
        },
        "1d1d225ca55d463d81e22e312e5c0aec": {
          "model_module": "@jupyter-widgets/controls",
          "model_name": "HTMLModel",
          "model_module_version": "1.5.0",
          "state": {
            "_dom_classes": [],
            "_model_module": "@jupyter-widgets/controls",
            "_model_module_version": "1.5.0",
            "_model_name": "HTMLModel",
            "_view_count": null,
            "_view_module": "@jupyter-widgets/controls",
            "_view_module_version": "1.5.0",
            "_view_name": "HTMLView",
            "description": "",
            "description_tooltip": null,
            "layout": "IPY_MODEL_da5f9577d1ba40b3aeed5d65169d3bff",
            "placeholder": "​",
            "style": "IPY_MODEL_8a3c3dd154584cfcaea4073fd93a44dc",
            "value": "Generating train split: "
          }
        },
        "2fed8ca0dc0143ca8aaba657ce74c4f8": {
          "model_module": "@jupyter-widgets/controls",
          "model_name": "FloatProgressModel",
          "model_module_version": "1.5.0",
          "state": {
            "_dom_classes": [],
            "_model_module": "@jupyter-widgets/controls",
            "_model_module_version": "1.5.0",
            "_model_name": "FloatProgressModel",
            "_view_count": null,
            "_view_module": "@jupyter-widgets/controls",
            "_view_module_version": "1.5.0",
            "_view_name": "ProgressView",
            "bar_style": "success",
            "description": "",
            "description_tooltip": null,
            "layout": "IPY_MODEL_50613a8e9b804d3194194d2a23cdd17e",
            "max": 1,
            "min": 0,
            "orientation": "horizontal",
            "style": "IPY_MODEL_3a5902764d1a4dd7823a6f688687143f",
            "value": 1
          }
        },
        "2c44ad3372a74b6180ebc7115c98e8fb": {
          "model_module": "@jupyter-widgets/controls",
          "model_name": "HTMLModel",
          "model_module_version": "1.5.0",
          "state": {
            "_dom_classes": [],
            "_model_module": "@jupyter-widgets/controls",
            "_model_module_version": "1.5.0",
            "_model_name": "HTMLModel",
            "_view_count": null,
            "_view_module": "@jupyter-widgets/controls",
            "_view_module_version": "1.5.0",
            "_view_name": "HTMLView",
            "description": "",
            "description_tooltip": null,
            "layout": "IPY_MODEL_fa6c06d727f44479a1ddf02206c5e28b",
            "placeholder": "​",
            "style": "IPY_MODEL_12e8d89892b04119b71ceb92e7aa03f6",
            "value": " 242738/0 [00:00&lt;00:00, 293916.94 examples/s]"
          }
        },
        "844bc43a41934fb3ad78ab634625a394": {
          "model_module": "@jupyter-widgets/base",
          "model_name": "LayoutModel",
          "model_module_version": "1.2.0",
          "state": {
            "_model_module": "@jupyter-widgets/base",
            "_model_module_version": "1.2.0",
            "_model_name": "LayoutModel",
            "_view_count": null,
            "_view_module": "@jupyter-widgets/base",
            "_view_module_version": "1.2.0",
            "_view_name": "LayoutView",
            "align_content": null,
            "align_items": null,
            "align_self": null,
            "border": null,
            "bottom": null,
            "display": null,
            "flex": null,
            "flex_flow": null,
            "grid_area": null,
            "grid_auto_columns": null,
            "grid_auto_flow": null,
            "grid_auto_rows": null,
            "grid_column": null,
            "grid_gap": null,
            "grid_row": null,
            "grid_template_areas": null,
            "grid_template_columns": null,
            "grid_template_rows": null,
            "height": null,
            "justify_content": null,
            "justify_items": null,
            "left": null,
            "margin": null,
            "max_height": null,
            "max_width": null,
            "min_height": null,
            "min_width": null,
            "object_fit": null,
            "object_position": null,
            "order": null,
            "overflow": null,
            "overflow_x": null,
            "overflow_y": null,
            "padding": null,
            "right": null,
            "top": null,
            "visibility": null,
            "width": null
          }
        },
        "da5f9577d1ba40b3aeed5d65169d3bff": {
          "model_module": "@jupyter-widgets/base",
          "model_name": "LayoutModel",
          "model_module_version": "1.2.0",
          "state": {
            "_model_module": "@jupyter-widgets/base",
            "_model_module_version": "1.2.0",
            "_model_name": "LayoutModel",
            "_view_count": null,
            "_view_module": "@jupyter-widgets/base",
            "_view_module_version": "1.2.0",
            "_view_name": "LayoutView",
            "align_content": null,
            "align_items": null,
            "align_self": null,
            "border": null,
            "bottom": null,
            "display": null,
            "flex": null,
            "flex_flow": null,
            "grid_area": null,
            "grid_auto_columns": null,
            "grid_auto_flow": null,
            "grid_auto_rows": null,
            "grid_column": null,
            "grid_gap": null,
            "grid_row": null,
            "grid_template_areas": null,
            "grid_template_columns": null,
            "grid_template_rows": null,
            "height": null,
            "justify_content": null,
            "justify_items": null,
            "left": null,
            "margin": null,
            "max_height": null,
            "max_width": null,
            "min_height": null,
            "min_width": null,
            "object_fit": null,
            "object_position": null,
            "order": null,
            "overflow": null,
            "overflow_x": null,
            "overflow_y": null,
            "padding": null,
            "right": null,
            "top": null,
            "visibility": null,
            "width": null
          }
        },
        "8a3c3dd154584cfcaea4073fd93a44dc": {
          "model_module": "@jupyter-widgets/controls",
          "model_name": "DescriptionStyleModel",
          "model_module_version": "1.5.0",
          "state": {
            "_model_module": "@jupyter-widgets/controls",
            "_model_module_version": "1.5.0",
            "_model_name": "DescriptionStyleModel",
            "_view_count": null,
            "_view_module": "@jupyter-widgets/base",
            "_view_module_version": "1.2.0",
            "_view_name": "StyleView",
            "description_width": ""
          }
        },
        "50613a8e9b804d3194194d2a23cdd17e": {
          "model_module": "@jupyter-widgets/base",
          "model_name": "LayoutModel",
          "model_module_version": "1.2.0",
          "state": {
            "_model_module": "@jupyter-widgets/base",
            "_model_module_version": "1.2.0",
            "_model_name": "LayoutModel",
            "_view_count": null,
            "_view_module": "@jupyter-widgets/base",
            "_view_module_version": "1.2.0",
            "_view_name": "LayoutView",
            "align_content": null,
            "align_items": null,
            "align_self": null,
            "border": null,
            "bottom": null,
            "display": null,
            "flex": null,
            "flex_flow": null,
            "grid_area": null,
            "grid_auto_columns": null,
            "grid_auto_flow": null,
            "grid_auto_rows": null,
            "grid_column": null,
            "grid_gap": null,
            "grid_row": null,
            "grid_template_areas": null,
            "grid_template_columns": null,
            "grid_template_rows": null,
            "height": null,
            "justify_content": null,
            "justify_items": null,
            "left": null,
            "margin": null,
            "max_height": null,
            "max_width": null,
            "min_height": null,
            "min_width": null,
            "object_fit": null,
            "object_position": null,
            "order": null,
            "overflow": null,
            "overflow_x": null,
            "overflow_y": null,
            "padding": null,
            "right": null,
            "top": null,
            "visibility": null,
            "width": "20px"
          }
        },
        "3a5902764d1a4dd7823a6f688687143f": {
          "model_module": "@jupyter-widgets/controls",
          "model_name": "ProgressStyleModel",
          "model_module_version": "1.5.0",
          "state": {
            "_model_module": "@jupyter-widgets/controls",
            "_model_module_version": "1.5.0",
            "_model_name": "ProgressStyleModel",
            "_view_count": null,
            "_view_module": "@jupyter-widgets/base",
            "_view_module_version": "1.2.0",
            "_view_name": "StyleView",
            "bar_color": null,
            "description_width": ""
          }
        },
        "fa6c06d727f44479a1ddf02206c5e28b": {
          "model_module": "@jupyter-widgets/base",
          "model_name": "LayoutModel",
          "model_module_version": "1.2.0",
          "state": {
            "_model_module": "@jupyter-widgets/base",
            "_model_module_version": "1.2.0",
            "_model_name": "LayoutModel",
            "_view_count": null,
            "_view_module": "@jupyter-widgets/base",
            "_view_module_version": "1.2.0",
            "_view_name": "LayoutView",
            "align_content": null,
            "align_items": null,
            "align_self": null,
            "border": null,
            "bottom": null,
            "display": null,
            "flex": null,
            "flex_flow": null,
            "grid_area": null,
            "grid_auto_columns": null,
            "grid_auto_flow": null,
            "grid_auto_rows": null,
            "grid_column": null,
            "grid_gap": null,
            "grid_row": null,
            "grid_template_areas": null,
            "grid_template_columns": null,
            "grid_template_rows": null,
            "height": null,
            "justify_content": null,
            "justify_items": null,
            "left": null,
            "margin": null,
            "max_height": null,
            "max_width": null,
            "min_height": null,
            "min_width": null,
            "object_fit": null,
            "object_position": null,
            "order": null,
            "overflow": null,
            "overflow_x": null,
            "overflow_y": null,
            "padding": null,
            "right": null,
            "top": null,
            "visibility": null,
            "width": null
          }
        },
        "12e8d89892b04119b71ceb92e7aa03f6": {
          "model_module": "@jupyter-widgets/controls",
          "model_name": "DescriptionStyleModel",
          "model_module_version": "1.5.0",
          "state": {
            "_model_module": "@jupyter-widgets/controls",
            "_model_module_version": "1.5.0",
            "_model_name": "DescriptionStyleModel",
            "_view_count": null,
            "_view_module": "@jupyter-widgets/base",
            "_view_module_version": "1.2.0",
            "_view_name": "StyleView",
            "description_width": ""
          }
        },
        "ccf100edde064244ad9141f8f4a9c85d": {
          "model_module": "@jupyter-widgets/controls",
          "model_name": "HBoxModel",
          "model_module_version": "1.5.0",
          "state": {
            "_dom_classes": [],
            "_model_module": "@jupyter-widgets/controls",
            "_model_module_version": "1.5.0",
            "_model_name": "HBoxModel",
            "_view_count": null,
            "_view_module": "@jupyter-widgets/controls",
            "_view_module_version": "1.5.0",
            "_view_name": "HBoxView",
            "box_style": "",
            "children": [
              "IPY_MODEL_5573553810e14fd7a4be2cf95a47717c",
              "IPY_MODEL_07203ba568ec47188852c5aae753c29c",
              "IPY_MODEL_607ad4e5eb014d7790011413ac7b7751"
            ],
            "layout": "IPY_MODEL_e3eb13ba637f4074b86f39617907e361"
          }
        },
        "5573553810e14fd7a4be2cf95a47717c": {
          "model_module": "@jupyter-widgets/controls",
          "model_name": "HTMLModel",
          "model_module_version": "1.5.0",
          "state": {
            "_dom_classes": [],
            "_model_module": "@jupyter-widgets/controls",
            "_model_module_version": "1.5.0",
            "_model_name": "HTMLModel",
            "_view_count": null,
            "_view_module": "@jupyter-widgets/controls",
            "_view_module_version": "1.5.0",
            "_view_name": "HTMLView",
            "description": "",
            "description_tooltip": null,
            "layout": "IPY_MODEL_241643dd78354b8b91e7dedbbde1aa9b",
            "placeholder": "​",
            "style": "IPY_MODEL_5ad5f77c40f24083887ce7aa73f27d5d",
            "value": "random_forest_model_3labels.joblib: 100%"
          }
        },
        "07203ba568ec47188852c5aae753c29c": {
          "model_module": "@jupyter-widgets/controls",
          "model_name": "FloatProgressModel",
          "model_module_version": "1.5.0",
          "state": {
            "_dom_classes": [],
            "_model_module": "@jupyter-widgets/controls",
            "_model_module_version": "1.5.0",
            "_model_name": "FloatProgressModel",
            "_view_count": null,
            "_view_module": "@jupyter-widgets/controls",
            "_view_module_version": "1.5.0",
            "_view_name": "ProgressView",
            "bar_style": "success",
            "description": "",
            "description_tooltip": null,
            "layout": "IPY_MODEL_b1e26064c1774769afc8ad9da01b9727",
            "max": 924081569,
            "min": 0,
            "orientation": "horizontal",
            "style": "IPY_MODEL_cc02cda696d54d6b87ff9b758c4f2f71",
            "value": 924081569
          }
        },
        "607ad4e5eb014d7790011413ac7b7751": {
          "model_module": "@jupyter-widgets/controls",
          "model_name": "HTMLModel",
          "model_module_version": "1.5.0",
          "state": {
            "_dom_classes": [],
            "_model_module": "@jupyter-widgets/controls",
            "_model_module_version": "1.5.0",
            "_model_name": "HTMLModel",
            "_view_count": null,
            "_view_module": "@jupyter-widgets/controls",
            "_view_module_version": "1.5.0",
            "_view_name": "HTMLView",
            "description": "",
            "description_tooltip": null,
            "layout": "IPY_MODEL_5b04c3e4bb8a43d08949e09ebcea5aeb",
            "placeholder": "​",
            "style": "IPY_MODEL_f7efb8f0403b422fb9c3155503b5376f",
            "value": " 924M/924M [00:34&lt;00:00, 26.4MB/s]"
          }
        },
        "e3eb13ba637f4074b86f39617907e361": {
          "model_module": "@jupyter-widgets/base",
          "model_name": "LayoutModel",
          "model_module_version": "1.2.0",
          "state": {
            "_model_module": "@jupyter-widgets/base",
            "_model_module_version": "1.2.0",
            "_model_name": "LayoutModel",
            "_view_count": null,
            "_view_module": "@jupyter-widgets/base",
            "_view_module_version": "1.2.0",
            "_view_name": "LayoutView",
            "align_content": null,
            "align_items": null,
            "align_self": null,
            "border": null,
            "bottom": null,
            "display": null,
            "flex": null,
            "flex_flow": null,
            "grid_area": null,
            "grid_auto_columns": null,
            "grid_auto_flow": null,
            "grid_auto_rows": null,
            "grid_column": null,
            "grid_gap": null,
            "grid_row": null,
            "grid_template_areas": null,
            "grid_template_columns": null,
            "grid_template_rows": null,
            "height": null,
            "justify_content": null,
            "justify_items": null,
            "left": null,
            "margin": null,
            "max_height": null,
            "max_width": null,
            "min_height": null,
            "min_width": null,
            "object_fit": null,
            "object_position": null,
            "order": null,
            "overflow": null,
            "overflow_x": null,
            "overflow_y": null,
            "padding": null,
            "right": null,
            "top": null,
            "visibility": null,
            "width": null
          }
        },
        "241643dd78354b8b91e7dedbbde1aa9b": {
          "model_module": "@jupyter-widgets/base",
          "model_name": "LayoutModel",
          "model_module_version": "1.2.0",
          "state": {
            "_model_module": "@jupyter-widgets/base",
            "_model_module_version": "1.2.0",
            "_model_name": "LayoutModel",
            "_view_count": null,
            "_view_module": "@jupyter-widgets/base",
            "_view_module_version": "1.2.0",
            "_view_name": "LayoutView",
            "align_content": null,
            "align_items": null,
            "align_self": null,
            "border": null,
            "bottom": null,
            "display": null,
            "flex": null,
            "flex_flow": null,
            "grid_area": null,
            "grid_auto_columns": null,
            "grid_auto_flow": null,
            "grid_auto_rows": null,
            "grid_column": null,
            "grid_gap": null,
            "grid_row": null,
            "grid_template_areas": null,
            "grid_template_columns": null,
            "grid_template_rows": null,
            "height": null,
            "justify_content": null,
            "justify_items": null,
            "left": null,
            "margin": null,
            "max_height": null,
            "max_width": null,
            "min_height": null,
            "min_width": null,
            "object_fit": null,
            "object_position": null,
            "order": null,
            "overflow": null,
            "overflow_x": null,
            "overflow_y": null,
            "padding": null,
            "right": null,
            "top": null,
            "visibility": null,
            "width": null
          }
        },
        "5ad5f77c40f24083887ce7aa73f27d5d": {
          "model_module": "@jupyter-widgets/controls",
          "model_name": "DescriptionStyleModel",
          "model_module_version": "1.5.0",
          "state": {
            "_model_module": "@jupyter-widgets/controls",
            "_model_module_version": "1.5.0",
            "_model_name": "DescriptionStyleModel",
            "_view_count": null,
            "_view_module": "@jupyter-widgets/base",
            "_view_module_version": "1.2.0",
            "_view_name": "StyleView",
            "description_width": ""
          }
        },
        "b1e26064c1774769afc8ad9da01b9727": {
          "model_module": "@jupyter-widgets/base",
          "model_name": "LayoutModel",
          "model_module_version": "1.2.0",
          "state": {
            "_model_module": "@jupyter-widgets/base",
            "_model_module_version": "1.2.0",
            "_model_name": "LayoutModel",
            "_view_count": null,
            "_view_module": "@jupyter-widgets/base",
            "_view_module_version": "1.2.0",
            "_view_name": "LayoutView",
            "align_content": null,
            "align_items": null,
            "align_self": null,
            "border": null,
            "bottom": null,
            "display": null,
            "flex": null,
            "flex_flow": null,
            "grid_area": null,
            "grid_auto_columns": null,
            "grid_auto_flow": null,
            "grid_auto_rows": null,
            "grid_column": null,
            "grid_gap": null,
            "grid_row": null,
            "grid_template_areas": null,
            "grid_template_columns": null,
            "grid_template_rows": null,
            "height": null,
            "justify_content": null,
            "justify_items": null,
            "left": null,
            "margin": null,
            "max_height": null,
            "max_width": null,
            "min_height": null,
            "min_width": null,
            "object_fit": null,
            "object_position": null,
            "order": null,
            "overflow": null,
            "overflow_x": null,
            "overflow_y": null,
            "padding": null,
            "right": null,
            "top": null,
            "visibility": null,
            "width": null
          }
        },
        "cc02cda696d54d6b87ff9b758c4f2f71": {
          "model_module": "@jupyter-widgets/controls",
          "model_name": "ProgressStyleModel",
          "model_module_version": "1.5.0",
          "state": {
            "_model_module": "@jupyter-widgets/controls",
            "_model_module_version": "1.5.0",
            "_model_name": "ProgressStyleModel",
            "_view_count": null,
            "_view_module": "@jupyter-widgets/base",
            "_view_module_version": "1.2.0",
            "_view_name": "StyleView",
            "bar_color": null,
            "description_width": ""
          }
        },
        "5b04c3e4bb8a43d08949e09ebcea5aeb": {
          "model_module": "@jupyter-widgets/base",
          "model_name": "LayoutModel",
          "model_module_version": "1.2.0",
          "state": {
            "_model_module": "@jupyter-widgets/base",
            "_model_module_version": "1.2.0",
            "_model_name": "LayoutModel",
            "_view_count": null,
            "_view_module": "@jupyter-widgets/base",
            "_view_module_version": "1.2.0",
            "_view_name": "LayoutView",
            "align_content": null,
            "align_items": null,
            "align_self": null,
            "border": null,
            "bottom": null,
            "display": null,
            "flex": null,
            "flex_flow": null,
            "grid_area": null,
            "grid_auto_columns": null,
            "grid_auto_flow": null,
            "grid_auto_rows": null,
            "grid_column": null,
            "grid_gap": null,
            "grid_row": null,
            "grid_template_areas": null,
            "grid_template_columns": null,
            "grid_template_rows": null,
            "height": null,
            "justify_content": null,
            "justify_items": null,
            "left": null,
            "margin": null,
            "max_height": null,
            "max_width": null,
            "min_height": null,
            "min_width": null,
            "object_fit": null,
            "object_position": null,
            "order": null,
            "overflow": null,
            "overflow_x": null,
            "overflow_y": null,
            "padding": null,
            "right": null,
            "top": null,
            "visibility": null,
            "width": null
          }
        },
        "f7efb8f0403b422fb9c3155503b5376f": {
          "model_module": "@jupyter-widgets/controls",
          "model_name": "DescriptionStyleModel",
          "model_module_version": "1.5.0",
          "state": {
            "_model_module": "@jupyter-widgets/controls",
            "_model_module_version": "1.5.0",
            "_model_name": "DescriptionStyleModel",
            "_view_count": null,
            "_view_module": "@jupyter-widgets/base",
            "_view_module_version": "1.2.0",
            "_view_name": "StyleView",
            "description_width": ""
          }
        }
      }
    },
    "accelerator": "GPU"
  },
  "cells": [
    {
      "cell_type": "markdown",
      "source": [
        "# Install requirements and import initial libraries"
      ],
      "metadata": {
        "id": "5KMXkdy921md"
      }
    },
    {
      "cell_type": "code",
      "source": [
        "!pip install -r requirements.txt\n",
        "\n",
        "import pandas as pd\n",
        "import numpy as np"
      ],
      "metadata": {
        "id": "FMmFqnCmzlfg",
        "colab": {
          "base_uri": "https://localhost:8080/"
        },
        "outputId": "c5d209c3-e163-4760-8e94-414dc7bd95c9"
      },
      "execution_count": 1,
      "outputs": [
        {
          "output_type": "stream",
          "name": "stdout",
          "text": [
            "Requirement already satisfied: numpy in /usr/local/lib/python3.10/dist-packages (from -r requirements.txt (line 1)) (1.25.2)\n",
            "Requirement already satisfied: pandas in /usr/local/lib/python3.10/dist-packages (from -r requirements.txt (line 2)) (2.0.3)\n",
            "Requirement already satisfied: scikit-learn in /usr/local/lib/python3.10/dist-packages (from -r requirements.txt (line 3)) (1.2.2)\n",
            "Requirement already satisfied: joblib in /usr/local/lib/python3.10/dist-packages (from -r requirements.txt (line 4)) (1.3.2)\n",
            "Requirement already satisfied: torch in /usr/local/lib/python3.10/dist-packages (from -r requirements.txt (line 5)) (2.2.1+cu121)\n",
            "Collecting datasets (from -r requirements.txt (line 6))\n",
            "  Downloading datasets-2.18.0-py3-none-any.whl (510 kB)\n",
            "\u001b[2K     \u001b[90m━━━━━━━━━━━━━━━━━━━━━━━━━━━━━━━━━━━━━━━━\u001b[0m \u001b[32m510.5/510.5 kB\u001b[0m \u001b[31m5.8 MB/s\u001b[0m eta \u001b[36m0:00:00\u001b[0m\n",
            "\u001b[?25hRequirement already satisfied: transformers in /usr/local/lib/python3.10/dist-packages (from -r requirements.txt (line 7)) (4.38.2)\n",
            "Requirement already satisfied: python-dateutil>=2.8.2 in /usr/local/lib/python3.10/dist-packages (from pandas->-r requirements.txt (line 2)) (2.8.2)\n",
            "Requirement already satisfied: pytz>=2020.1 in /usr/local/lib/python3.10/dist-packages (from pandas->-r requirements.txt (line 2)) (2023.4)\n",
            "Requirement already satisfied: tzdata>=2022.1 in /usr/local/lib/python3.10/dist-packages (from pandas->-r requirements.txt (line 2)) (2024.1)\n",
            "Requirement already satisfied: scipy>=1.3.2 in /usr/local/lib/python3.10/dist-packages (from scikit-learn->-r requirements.txt (line 3)) (1.11.4)\n",
            "Requirement already satisfied: threadpoolctl>=2.0.0 in /usr/local/lib/python3.10/dist-packages (from scikit-learn->-r requirements.txt (line 3)) (3.4.0)\n",
            "Requirement already satisfied: filelock in /usr/local/lib/python3.10/dist-packages (from torch->-r requirements.txt (line 5)) (3.13.3)\n",
            "Requirement already satisfied: typing-extensions>=4.8.0 in /usr/local/lib/python3.10/dist-packages (from torch->-r requirements.txt (line 5)) (4.10.0)\n",
            "Requirement already satisfied: sympy in /usr/local/lib/python3.10/dist-packages (from torch->-r requirements.txt (line 5)) (1.12)\n",
            "Requirement already satisfied: networkx in /usr/local/lib/python3.10/dist-packages (from torch->-r requirements.txt (line 5)) (3.2.1)\n",
            "Requirement already satisfied: jinja2 in /usr/local/lib/python3.10/dist-packages (from torch->-r requirements.txt (line 5)) (3.1.3)\n",
            "Requirement already satisfied: fsspec in /usr/local/lib/python3.10/dist-packages (from torch->-r requirements.txt (line 5)) (2023.6.0)\n",
            "Collecting nvidia-cuda-nvrtc-cu12==12.1.105 (from torch->-r requirements.txt (line 5))\n",
            "  Downloading nvidia_cuda_nvrtc_cu12-12.1.105-py3-none-manylinux1_x86_64.whl (23.7 MB)\n",
            "\u001b[2K     \u001b[90m━━━━━━━━━━━━━━━━━━━━━━━━━━━━━━━━━━━━━━━━\u001b[0m \u001b[32m23.7/23.7 MB\u001b[0m \u001b[31m41.5 MB/s\u001b[0m eta \u001b[36m0:00:00\u001b[0m\n",
            "\u001b[?25hCollecting nvidia-cuda-runtime-cu12==12.1.105 (from torch->-r requirements.txt (line 5))\n",
            "  Downloading nvidia_cuda_runtime_cu12-12.1.105-py3-none-manylinux1_x86_64.whl (823 kB)\n",
            "\u001b[2K     \u001b[90m━━━━━━━━━━━━━━━━━━━━━━━━━━━━━━━━━━━━━━━━\u001b[0m \u001b[32m823.6/823.6 kB\u001b[0m \u001b[31m45.3 MB/s\u001b[0m eta \u001b[36m0:00:00\u001b[0m\n",
            "\u001b[?25hCollecting nvidia-cuda-cupti-cu12==12.1.105 (from torch->-r requirements.txt (line 5))\n",
            "  Downloading nvidia_cuda_cupti_cu12-12.1.105-py3-none-manylinux1_x86_64.whl (14.1 MB)\n",
            "\u001b[2K     \u001b[90m━━━━━━━━━━━━━━━━━━━━━━━━━━━━━━━━━━━━━━━━\u001b[0m \u001b[32m14.1/14.1 MB\u001b[0m \u001b[31m68.0 MB/s\u001b[0m eta \u001b[36m0:00:00\u001b[0m\n",
            "\u001b[?25hCollecting nvidia-cudnn-cu12==8.9.2.26 (from torch->-r requirements.txt (line 5))\n",
            "  Downloading nvidia_cudnn_cu12-8.9.2.26-py3-none-manylinux1_x86_64.whl (731.7 MB)\n",
            "\u001b[2K     \u001b[90m━━━━━━━━━━━━━━━━━━━━━━━━━━━━━━━━━━━━━━━━\u001b[0m \u001b[32m731.7/731.7 MB\u001b[0m \u001b[31m2.4 MB/s\u001b[0m eta \u001b[36m0:00:00\u001b[0m\n",
            "\u001b[?25hCollecting nvidia-cublas-cu12==12.1.3.1 (from torch->-r requirements.txt (line 5))\n",
            "  Downloading nvidia_cublas_cu12-12.1.3.1-py3-none-manylinux1_x86_64.whl (410.6 MB)\n",
            "\u001b[2K     \u001b[90m━━━━━━━━━━━━━━━━━━━━━━━━━━━━━━━━━━━━━━━━\u001b[0m \u001b[32m410.6/410.6 MB\u001b[0m \u001b[31m3.2 MB/s\u001b[0m eta \u001b[36m0:00:00\u001b[0m\n",
            "\u001b[?25hCollecting nvidia-cufft-cu12==11.0.2.54 (from torch->-r requirements.txt (line 5))\n",
            "  Downloading nvidia_cufft_cu12-11.0.2.54-py3-none-manylinux1_x86_64.whl (121.6 MB)\n",
            "\u001b[2K     \u001b[90m━━━━━━━━━━━━━━━━━━━━━━━━━━━━━━━━━━━━━━━━\u001b[0m \u001b[32m121.6/121.6 MB\u001b[0m \u001b[31m13.2 MB/s\u001b[0m eta \u001b[36m0:00:00\u001b[0m\n",
            "\u001b[?25hCollecting nvidia-curand-cu12==10.3.2.106 (from torch->-r requirements.txt (line 5))\n",
            "  Downloading nvidia_curand_cu12-10.3.2.106-py3-none-manylinux1_x86_64.whl (56.5 MB)\n",
            "\u001b[2K     \u001b[90m━━━━━━━━━━━━━━━━━━━━━━━━━━━━━━━━━━━━━━━━\u001b[0m \u001b[32m56.5/56.5 MB\u001b[0m \u001b[31m29.1 MB/s\u001b[0m eta \u001b[36m0:00:00\u001b[0m\n",
            "\u001b[?25hCollecting nvidia-cusolver-cu12==11.4.5.107 (from torch->-r requirements.txt (line 5))\n",
            "  Downloading nvidia_cusolver_cu12-11.4.5.107-py3-none-manylinux1_x86_64.whl (124.2 MB)\n",
            "\u001b[2K     \u001b[90m━━━━━━━━━━━━━━━━━━━━━━━━━━━━━━━━━━━━━━━━\u001b[0m \u001b[32m124.2/124.2 MB\u001b[0m \u001b[31m7.8 MB/s\u001b[0m eta \u001b[36m0:00:00\u001b[0m\n",
            "\u001b[?25hCollecting nvidia-cusparse-cu12==12.1.0.106 (from torch->-r requirements.txt (line 5))\n",
            "  Downloading nvidia_cusparse_cu12-12.1.0.106-py3-none-manylinux1_x86_64.whl (196.0 MB)\n",
            "\u001b[2K     \u001b[90m━━━━━━━━━━━━━━━━━━━━━━━━━━━━━━━━━━━━━━━━\u001b[0m \u001b[32m196.0/196.0 MB\u001b[0m \u001b[31m3.9 MB/s\u001b[0m eta \u001b[36m0:00:00\u001b[0m\n",
            "\u001b[?25hCollecting nvidia-nccl-cu12==2.19.3 (from torch->-r requirements.txt (line 5))\n",
            "  Downloading nvidia_nccl_cu12-2.19.3-py3-none-manylinux1_x86_64.whl (166.0 MB)\n",
            "\u001b[2K     \u001b[90m━━━━━━━━━━━━━━━━━━━━━━━━━━━━━━━━━━━━━━━━\u001b[0m \u001b[32m166.0/166.0 MB\u001b[0m \u001b[31m10.2 MB/s\u001b[0m eta \u001b[36m0:00:00\u001b[0m\n",
            "\u001b[?25hCollecting nvidia-nvtx-cu12==12.1.105 (from torch->-r requirements.txt (line 5))\n",
            "  Downloading nvidia_nvtx_cu12-12.1.105-py3-none-manylinux1_x86_64.whl (99 kB)\n",
            "\u001b[2K     \u001b[90m━━━━━━━━━━━━━━━━━━━━━━━━━━━━━━━━━━━━━━━━\u001b[0m \u001b[32m99.1/99.1 kB\u001b[0m \u001b[31m12.4 MB/s\u001b[0m eta \u001b[36m0:00:00\u001b[0m\n",
            "\u001b[?25hRequirement already satisfied: triton==2.2.0 in /usr/local/lib/python3.10/dist-packages (from torch->-r requirements.txt (line 5)) (2.2.0)\n",
            "Collecting nvidia-nvjitlink-cu12 (from nvidia-cusolver-cu12==11.4.5.107->torch->-r requirements.txt (line 5))\n",
            "  Downloading nvidia_nvjitlink_cu12-12.4.127-py3-none-manylinux2014_x86_64.whl (21.1 MB)\n",
            "\u001b[2K     \u001b[90m━━━━━━━━━━━━━━━━━━━━━━━━━━━━━━━━━━━━━━━━\u001b[0m \u001b[32m21.1/21.1 MB\u001b[0m \u001b[31m63.7 MB/s\u001b[0m eta \u001b[36m0:00:00\u001b[0m\n",
            "\u001b[?25hRequirement already satisfied: pyarrow>=12.0.0 in /usr/local/lib/python3.10/dist-packages (from datasets->-r requirements.txt (line 6)) (14.0.2)\n",
            "Requirement already satisfied: pyarrow-hotfix in /usr/local/lib/python3.10/dist-packages (from datasets->-r requirements.txt (line 6)) (0.6)\n",
            "Collecting dill<0.3.9,>=0.3.0 (from datasets->-r requirements.txt (line 6))\n",
            "  Downloading dill-0.3.8-py3-none-any.whl (116 kB)\n",
            "\u001b[2K     \u001b[90m━━━━━━━━━━━━━━━━━━━━━━━━━━━━━━━━━━━━━━━━\u001b[0m \u001b[32m116.3/116.3 kB\u001b[0m \u001b[31m14.6 MB/s\u001b[0m eta \u001b[36m0:00:00\u001b[0m\n",
            "\u001b[?25hRequirement already satisfied: requests>=2.19.0 in /usr/local/lib/python3.10/dist-packages (from datasets->-r requirements.txt (line 6)) (2.31.0)\n",
            "Requirement already satisfied: tqdm>=4.62.1 in /usr/local/lib/python3.10/dist-packages (from datasets->-r requirements.txt (line 6)) (4.66.2)\n",
            "Collecting xxhash (from datasets->-r requirements.txt (line 6))\n",
            "  Downloading xxhash-3.4.1-cp310-cp310-manylinux_2_17_x86_64.manylinux2014_x86_64.whl (194 kB)\n",
            "\u001b[2K     \u001b[90m━━━━━━━━━━━━━━━━━━━━━━━━━━━━━━━━━━━━━━━━\u001b[0m \u001b[32m194.1/194.1 kB\u001b[0m \u001b[31m24.9 MB/s\u001b[0m eta \u001b[36m0:00:00\u001b[0m\n",
            "\u001b[?25hCollecting multiprocess (from datasets->-r requirements.txt (line 6))\n",
            "  Downloading multiprocess-0.70.16-py310-none-any.whl (134 kB)\n",
            "\u001b[2K     \u001b[90m━━━━━━━━━━━━━━━━━━━━━━━━━━━━━━━━━━━━━━━━\u001b[0m \u001b[32m134.8/134.8 kB\u001b[0m \u001b[31m17.5 MB/s\u001b[0m eta \u001b[36m0:00:00\u001b[0m\n",
            "\u001b[?25hRequirement already satisfied: aiohttp in /usr/local/lib/python3.10/dist-packages (from datasets->-r requirements.txt (line 6)) (3.9.3)\n",
            "Requirement already satisfied: huggingface-hub>=0.19.4 in /usr/local/lib/python3.10/dist-packages (from datasets->-r requirements.txt (line 6)) (0.20.3)\n",
            "Requirement already satisfied: packaging in /usr/local/lib/python3.10/dist-packages (from datasets->-r requirements.txt (line 6)) (24.0)\n",
            "Requirement already satisfied: pyyaml>=5.1 in /usr/local/lib/python3.10/dist-packages (from datasets->-r requirements.txt (line 6)) (6.0.1)\n",
            "Requirement already satisfied: regex!=2019.12.17 in /usr/local/lib/python3.10/dist-packages (from transformers->-r requirements.txt (line 7)) (2023.12.25)\n",
            "Requirement already satisfied: tokenizers<0.19,>=0.14 in /usr/local/lib/python3.10/dist-packages (from transformers->-r requirements.txt (line 7)) (0.15.2)\n",
            "Requirement already satisfied: safetensors>=0.4.1 in /usr/local/lib/python3.10/dist-packages (from transformers->-r requirements.txt (line 7)) (0.4.2)\n",
            "Requirement already satisfied: aiosignal>=1.1.2 in /usr/local/lib/python3.10/dist-packages (from aiohttp->datasets->-r requirements.txt (line 6)) (1.3.1)\n",
            "Requirement already satisfied: attrs>=17.3.0 in /usr/local/lib/python3.10/dist-packages (from aiohttp->datasets->-r requirements.txt (line 6)) (23.2.0)\n",
            "Requirement already satisfied: frozenlist>=1.1.1 in /usr/local/lib/python3.10/dist-packages (from aiohttp->datasets->-r requirements.txt (line 6)) (1.4.1)\n",
            "Requirement already satisfied: multidict<7.0,>=4.5 in /usr/local/lib/python3.10/dist-packages (from aiohttp->datasets->-r requirements.txt (line 6)) (6.0.5)\n",
            "Requirement already satisfied: yarl<2.0,>=1.0 in /usr/local/lib/python3.10/dist-packages (from aiohttp->datasets->-r requirements.txt (line 6)) (1.9.4)\n",
            "Requirement already satisfied: async-timeout<5.0,>=4.0 in /usr/local/lib/python3.10/dist-packages (from aiohttp->datasets->-r requirements.txt (line 6)) (4.0.3)\n",
            "Requirement already satisfied: six>=1.5 in /usr/local/lib/python3.10/dist-packages (from python-dateutil>=2.8.2->pandas->-r requirements.txt (line 2)) (1.16.0)\n",
            "Requirement already satisfied: charset-normalizer<4,>=2 in /usr/local/lib/python3.10/dist-packages (from requests>=2.19.0->datasets->-r requirements.txt (line 6)) (3.3.2)\n",
            "Requirement already satisfied: idna<4,>=2.5 in /usr/local/lib/python3.10/dist-packages (from requests>=2.19.0->datasets->-r requirements.txt (line 6)) (3.6)\n",
            "Requirement already satisfied: urllib3<3,>=1.21.1 in /usr/local/lib/python3.10/dist-packages (from requests>=2.19.0->datasets->-r requirements.txt (line 6)) (2.0.7)\n",
            "Requirement already satisfied: certifi>=2017.4.17 in /usr/local/lib/python3.10/dist-packages (from requests>=2.19.0->datasets->-r requirements.txt (line 6)) (2024.2.2)\n",
            "Requirement already satisfied: MarkupSafe>=2.0 in /usr/local/lib/python3.10/dist-packages (from jinja2->torch->-r requirements.txt (line 5)) (2.1.5)\n",
            "Requirement already satisfied: mpmath>=0.19 in /usr/local/lib/python3.10/dist-packages (from sympy->torch->-r requirements.txt (line 5)) (1.3.0)\n",
            "Installing collected packages: xxhash, nvidia-nvtx-cu12, nvidia-nvjitlink-cu12, nvidia-nccl-cu12, nvidia-curand-cu12, nvidia-cufft-cu12, nvidia-cuda-runtime-cu12, nvidia-cuda-nvrtc-cu12, nvidia-cuda-cupti-cu12, nvidia-cublas-cu12, dill, nvidia-cusparse-cu12, nvidia-cudnn-cu12, multiprocess, nvidia-cusolver-cu12, datasets\n",
            "Successfully installed datasets-2.18.0 dill-0.3.8 multiprocess-0.70.16 nvidia-cublas-cu12-12.1.3.1 nvidia-cuda-cupti-cu12-12.1.105 nvidia-cuda-nvrtc-cu12-12.1.105 nvidia-cuda-runtime-cu12-12.1.105 nvidia-cudnn-cu12-8.9.2.26 nvidia-cufft-cu12-11.0.2.54 nvidia-curand-cu12-10.3.2.106 nvidia-cusolver-cu12-11.4.5.107 nvidia-cusparse-cu12-12.1.0.106 nvidia-nccl-cu12-2.19.3 nvidia-nvjitlink-cu12-12.4.127 nvidia-nvtx-cu12-12.1.105 xxhash-3.4.1\n"
          ]
        }
      ]
    },
    {
      "cell_type": "markdown",
      "source": [
        "# Load combined dataset"
      ],
      "metadata": {
        "id": "cXhjLC_B2x-w"
      }
    },
    {
      "cell_type": "code",
      "source": [
        "from datasets import load_dataset\n",
        "\n",
        "# Load the data\n",
        "dataset = load_dataset(\"TLeonidas/twitter-hate-speech-en-240ksamples\")\n",
        "\n",
        "# Transform into a pandas DataFrame\n",
        "df = dataset[\"train\"].to_pandas()"
      ],
      "metadata": {
        "id": "4Oy0bgiIzf0Y",
        "colab": {
          "base_uri": "https://localhost:8080/",
          "height": 113,
          "referenced_widgets": [
            "6685418146dc475bb56d9aefc7526f70",
            "7d6d639b3ba94ceda9b3ad3acb36e240",
            "11bd32f1c89e48728a3a767c201a3d8e",
            "8241c2fb79b946ae8a62e9b9913ee7ac",
            "16f62541a58d4762ab20f13f80899f94",
            "2483e69e6cfc4069b37e966aeb21c830",
            "d9e93cda4d174ccc9d1a4249aa944867",
            "96ec4dec372d4e86a29a66d933513054",
            "d9fbf6855c11494886b7d7a8db2b15cc",
            "235a0768a6694d6b9e8b8c9ad0229d84",
            "cc6107db9aa94abab2120b3198dda0a6",
            "35a3c02ebc86471fa64e7dda56b4d2d0",
            "c83bb1e53e5346d58b5bc089b08a73ca",
            "a3779d829ee54083a22d32c340b92c51",
            "e874c26d95f841d9a70765f2e0c52bfe",
            "effbba90994844f4825f457a9ac36237",
            "a7c67df5101f4a4797943236e2a865dd",
            "de38f915634f47b899e1fe6f84a486cc",
            "b7d9e0a8b17e46b0aef740dbe0f653b5",
            "69eb85674dee40c2b01469b0617d16dd",
            "7bc85b453f154aed9e50cacf51ff6c12",
            "a441cf41631b432e87e1d002384b2d81",
            "3c9c769ccb134ad69b25384e9cb24878",
            "1d1d225ca55d463d81e22e312e5c0aec",
            "2fed8ca0dc0143ca8aaba657ce74c4f8",
            "2c44ad3372a74b6180ebc7115c98e8fb",
            "844bc43a41934fb3ad78ab634625a394",
            "da5f9577d1ba40b3aeed5d65169d3bff",
            "8a3c3dd154584cfcaea4073fd93a44dc",
            "50613a8e9b804d3194194d2a23cdd17e",
            "3a5902764d1a4dd7823a6f688687143f",
            "fa6c06d727f44479a1ddf02206c5e28b",
            "12e8d89892b04119b71ceb92e7aa03f6"
          ]
        },
        "outputId": "0dd46437-eae0-4410-83b1-5d19aab1eb01"
      },
      "execution_count": 2,
      "outputs": [
        {
          "output_type": "display_data",
          "data": {
            "text/plain": [
              "Downloading readme:   0%|          | 0.00/552 [00:00<?, ?B/s]"
            ],
            "application/vnd.jupyter.widget-view+json": {
              "version_major": 2,
              "version_minor": 0,
              "model_id": "6685418146dc475bb56d9aefc7526f70"
            }
          },
          "metadata": {}
        },
        {
          "output_type": "display_data",
          "data": {
            "text/plain": [
              "Downloading data:   0%|          | 0.00/38.7M [00:00<?, ?B/s]"
            ],
            "application/vnd.jupyter.widget-view+json": {
              "version_major": 2,
              "version_minor": 0,
              "model_id": "35a3c02ebc86471fa64e7dda56b4d2d0"
            }
          },
          "metadata": {}
        },
        {
          "output_type": "display_data",
          "data": {
            "text/plain": [
              "Generating train split: 0 examples [00:00, ? examples/s]"
            ],
            "application/vnd.jupyter.widget-view+json": {
              "version_major": 2,
              "version_minor": 0,
              "model_id": "3c9c769ccb134ad69b25384e9cb24878"
            }
          },
          "metadata": {}
        }
      ]
    },
    {
      "cell_type": "markdown",
      "source": [
        "# Visualize labels distribution"
      ],
      "metadata": {
        "id": "4-7234Znhb46"
      }
    },
    {
      "cell_type": "code",
      "source": [
        "import seaborn as sns\n",
        "import matplotlib.pyplot as plt\n",
        "\n",
        "label_order_reversed = df['labels'].unique()[::-1]\n",
        "\n",
        "plt.figure(figsize=(8, 6))\n",
        "sns.countplot(data=df, x='labels', order=label_order_reversed)\n",
        "plt.title('Dataset Labels Distribution')\n",
        "plt.xlabel('Labels')\n",
        "plt.ylabel('Count')\n",
        "plt.xticks(rotation=45)\n",
        "plt.show()"
      ],
      "metadata": {
        "colab": {
          "base_uri": "https://localhost:8080/",
          "height": 685
        },
        "id": "FGmFy7l1Iyy5",
        "outputId": "8044d0f6-8a1d-43b0-afa8-a17d96f3a0ca"
      },
      "execution_count": 3,
      "outputs": [
        {
          "output_type": "display_data",
          "data": {
            "text/plain": [
              "<Figure size 800x600 with 1 Axes>"
            ],
            "image/png": "[encoded data removed]"
          },
          "metadata": {}
        }
      ]
    },
    {
      "cell_type": "markdown",
      "source": [
        "# Introduce leet language dictionary"
      ],
      "metadata": {
        "id": "zvW6Z6Yh29fi"
      }
    },
    {
      "cell_type": "code",
      "source": [
        "leet_dict = {\n",
        "    '0': 'o',\n",
        "    '1': 'i',\n",
        "    '3': 'e',\n",
        "    '4': 'a',\n",
        "    '5': 's',\n",
        "    '7': 't',\n",
        "    '@': 'a',\n",
        "    '$': 's',\n",
        "    '9': 'g',\n",
        "}\n",
        "\n",
        "def translate_leet(text):\n",
        "    translated = ''.join([leet_dict.get(char, char) for char in text])\n",
        "    return translated"
      ],
      "metadata": {
        "id": "NagvvDk61vWz"
      },
      "execution_count": 4,
      "outputs": []
    },
    {
      "cell_type": "markdown",
      "source": [
        "# Preprocess the data"
      ],
      "metadata": {
        "id": "fiL4ysTdmKKR"
      }
    },
    {
      "cell_type": "code",
      "source": [
        "import re\n",
        "import string\n",
        "import nltk\n",
        "nltk.download('stopwords')\n",
        "from nltk.corpus import stopwords\n",
        "from nltk.stem.snowball import SnowballStemmer\n",
        "\n",
        "stopword = set(stopwords.words('english'))\n",
        "# Remove 'not' from the stopwords list as we want to keep it\n",
        "stopword.remove('not')\n",
        "\n",
        "def clean(text):\n",
        "    text = str(text)\n",
        "    # Preserve \"Not\" by temporarily replacing it\n",
        "    text = re.sub(r'\\bNot\\b', 'temporarynotplaceholder', text)\n",
        "\n",
        "    text = text.lower()\n",
        "    text = re.sub('\\[.*?\\]', '', text)\n",
        "    text = re.sub('https?://\\S+|www\\.\\S+', '', text)\n",
        "    text = re.sub('<.*?>+', '', text)\n",
        "\n",
        "    # Modify punctuation removal to preserve \"@\"\n",
        "    text = re.sub('[%s]' % re.escape(string.punctuation.replace('@', '')), '', text)\n",
        "    text = re.sub('\\n', '', text)\n",
        "\n",
        "    # Preserving leet speak by not removing words with numbers\n",
        "    text = \" \".join([word for word in text.split() if word not in stopword])\n",
        "\n",
        "    # Restore \"Not\" in its proper case\n",
        "    text = re.sub('temporarynotplaceholder', 'Not', text)\n",
        "\n",
        "    return text\n",
        "\n",
        "# Function to process text through the pipeline\n",
        "def process_text(text):\n",
        "    # Translate leet speak\n",
        "    text = translate_leet(text)\n",
        "\n",
        "    # Clean the text\n",
        "    text = clean(text)\n",
        "\n",
        "    return text"
      ],
      "metadata": {
        "id": "qQG654I8170Z",
        "colab": {
          "base_uri": "https://localhost:8080/"
        },
        "outputId": "f72fa163-d0f6-4b5e-9eb8-ca15be0fb848"
      },
      "execution_count": 5,
      "outputs": [
        {
          "output_type": "stream",
          "name": "stderr",
          "text": [
            "[nltk_data] Downloading package stopwords to /root/nltk_data...\n",
            "[nltk_data]   Unzipping corpora/stopwords.zip.\n"
          ]
        }
      ]
    },
    {
      "cell_type": "code",
      "source": [
        "# Apply the leet language and clean the data\n",
        "df['tweet'] = df['tweet'].apply(process_text)\n",
        "\n",
        "# Transform columns to numpy arrays\n",
        "x = np.array(df[\"tweet\"])\n",
        "y = np.array(df[\"labels\"])"
      ],
      "metadata": {
        "id": "JWFAu9iZppun"
      },
      "execution_count": 6,
      "outputs": []
    },
    {
      "cell_type": "markdown",
      "source": [
        "# Import label encoder"
      ],
      "metadata": {
        "id": "rt1K_BSsnpFs"
      }
    },
    {
      "cell_type": "code",
      "source": [
        "from joblib import load\n",
        "\n",
        "# Import the LabelEncoder\n",
        "label_encoder = load('label_encoder.joblib')\n",
        "\n",
        "# Fit label encoder and return encoded labels\n",
        "y_encoded = label_encoder.fit_transform(y)"
      ],
      "metadata": {
        "id": "NViIuir1DJhv"
      },
      "execution_count": 7,
      "outputs": []
    },
    {
      "cell_type": "code",
      "source": [
        "# Code used to initially enconde the labels. Not needed since we've imported it\n",
        "'''\n",
        "from sklearn.preprocessing import LabelEncoder\n",
        "\n",
        "# Initialize the LabelEncoder\n",
        "label_encoder = LabelEncoder()\n",
        "\n",
        "# Fit label encoder and return encoded labels\n",
        "y_encoded = label_encoder.fit_transform(y)\n",
        "'''"
      ],
      "metadata": {
        "id": "bVH0Fx4xV7L6"
      },
      "execution_count": null,
      "outputs": []
    },
    {
      "cell_type": "markdown",
      "source": [
        "# Split data and import vectorizer"
      ],
      "metadata": {
        "id": "q7E3Y1a5E2tI"
      }
    },
    {
      "cell_type": "code",
      "source": [
        "from sklearn.model_selection import train_test_split\n",
        "\n",
        "X_train, X_test, y_train, y_test = train_test_split(x, y_encoded, test_size = 0.25, random_state = 42)\n"
      ],
      "metadata": {
        "id": "QYfikrvdDK12"
      },
      "execution_count": 8,
      "outputs": []
    },
    {
      "cell_type": "code",
      "source": [
        "# Import vectorizer\n",
        "\n",
        "cv = load('count_vectorizer.joblib')\n",
        "X_train_vectorized = cv.fit_transform(X_train)\n",
        "X_test_vectorized = cv.transform(X_test)"
      ],
      "metadata": {
        "id": "B8dbBqKI6DE8"
      },
      "execution_count": 9,
      "outputs": []
    },
    {
      "cell_type": "code",
      "source": [
        "# Code used to initially vectorize the 'tweets'. Not needed since we've imported it\n",
        "'''\n",
        "from sklearn.feature_extraction.text import CountVectorizer\n",
        "cv = CountVectorizer()\n",
        "# Fit CountVectorizer on the training data and transform the training data\n",
        "X_train_vectorized = cv.fit_transform(X_train)\n",
        "\n",
        "# Transform the test data with the same vectorizer\n",
        "X_test_vectorized = cv.transform(X_test)\n",
        "'''"
      ],
      "metadata": {
        "id": "uBid0D7y68Kq"
      },
      "execution_count": null,
      "outputs": []
    },
    {
      "cell_type": "markdown",
      "source": [
        "# Import the models"
      ],
      "metadata": {
        "id": "G8A8aOXQeeXD"
      }
    },
    {
      "cell_type": "code",
      "source": [
        "from joblib import load\n",
        "\n",
        "# Load the model from the file\n",
        "clf_decision_tree = load('/content/clf_cv_3labels.joblib')\n",
        "\n",
        "!pip install huggingface_hub\n",
        "from huggingface_hub import hf_hub_download\n",
        "\n",
        "model_file_path = hf_hub_download(repo_id=\"TLeonidas/clf-random-forest\", filename=\"random_forest_model_3labels.joblib\")\n",
        "\n",
        "clf_random_forest = load(model_file_path)"
      ],
      "metadata": {
        "colab": {
          "base_uri": "https://localhost:8080/",
          "height": 277,
          "referenced_widgets": [
            "ccf100edde064244ad9141f8f4a9c85d",
            "5573553810e14fd7a4be2cf95a47717c",
            "07203ba568ec47188852c5aae753c29c",
            "607ad4e5eb014d7790011413ac7b7751",
            "e3eb13ba637f4074b86f39617907e361",
            "241643dd78354b8b91e7dedbbde1aa9b",
            "5ad5f77c40f24083887ce7aa73f27d5d",
            "b1e26064c1774769afc8ad9da01b9727",
            "cc02cda696d54d6b87ff9b758c4f2f71",
            "5b04c3e4bb8a43d08949e09ebcea5aeb",
            "f7efb8f0403b422fb9c3155503b5376f"
          ]
        },
        "id": "vsFwtWtl5bXM",
        "outputId": "00af5b18-1921-4684-fd9c-073b34226a00"
      },
      "execution_count": 10,
      "outputs": [
        {
          "output_type": "stream",
          "name": "stdout",
          "text": [
            "Requirement already satisfied: huggingface_hub in /usr/local/lib/python3.10/dist-packages (0.20.3)\n",
            "Requirement already satisfied: filelock in /usr/local/lib/python3.10/dist-packages (from huggingface_hub) (3.13.3)\n",
            "Requirement already satisfied: fsspec>=2023.5.0 in /usr/local/lib/python3.10/dist-packages (from huggingface_hub) (2023.6.0)\n",
            "Requirement already satisfied: requests in /usr/local/lib/python3.10/dist-packages (from huggingface_hub) (2.31.0)\n",
            "Requirement already satisfied: tqdm>=4.42.1 in /usr/local/lib/python3.10/dist-packages (from huggingface_hub) (4.66.2)\n",
            "Requirement already satisfied: pyyaml>=5.1 in /usr/local/lib/python3.10/dist-packages (from huggingface_hub) (6.0.1)\n",
            "Requirement already satisfied: typing-extensions>=3.7.4.3 in /usr/local/lib/python3.10/dist-packages (from huggingface_hub) (4.10.0)\n",
            "Requirement already satisfied: packaging>=20.9 in /usr/local/lib/python3.10/dist-packages (from huggingface_hub) (24.0)\n",
            "Requirement already satisfied: charset-normalizer<4,>=2 in /usr/local/lib/python3.10/dist-packages (from requests->huggingface_hub) (3.3.2)\n",
            "Requirement already satisfied: idna<4,>=2.5 in /usr/local/lib/python3.10/dist-packages (from requests->huggingface_hub) (3.6)\n",
            "Requirement already satisfied: urllib3<3,>=1.21.1 in /usr/local/lib/python3.10/dist-packages (from requests->huggingface_hub) (2.0.7)\n",
            "Requirement already satisfied: certifi>=2017.4.17 in /usr/local/lib/python3.10/dist-packages (from requests->huggingface_hub) (2024.2.2)\n"
          ]
        },
        {
          "output_type": "display_data",
          "data": {
            "text/plain": [
              "random_forest_model_3labels.joblib:   0%|          | 0.00/924M [00:00<?, ?B/s]"
            ],
            "application/vnd.jupyter.widget-view+json": {
              "version_major": 2,
              "version_minor": 0,
              "model_id": "ccf100edde064244ad9141f8f4a9c85d"
            }
          },
          "metadata": {}
        }
      ]
    },
    {
      "cell_type": "code",
      "source": [
        "# Code used to train the classifiers. Not needed since we've imported them\n",
        "'''\n",
        "from sklearn.tree import DecisionTreeClassifier\n",
        "from sklearn.ensemble import RandomForestClassifier\n",
        "\n",
        "# Decision Tree Classifier\n",
        "clf_decision_tree = DecisionTreeClassifier()\n",
        "clf_decision_tree.fit(X_train_vectorized, y_train)\n",
        "\n",
        "# Random Forest Classifier\n",
        "clf_random_forest = RandomForestClassifier(n_estimators=100, class_weight='balanced', random_state=42)\n",
        "clf_random_forest.fit(X_train_vectorized, y_train)'''"
      ],
      "metadata": {
        "id": "lWfbqN-REZq8"
      },
      "execution_count": null,
      "outputs": []
    },
    {
      "cell_type": "markdown",
      "source": [
        "# Evaluate the models performance"
      ],
      "metadata": {
        "id": "lUr0ycgLFzg5"
      }
    },
    {
      "cell_type": "code",
      "source": [
        "from sklearn.metrics import accuracy_score, classification_report\n",
        "\n",
        "# Predict on the test data\n",
        "y_pred_decision_tree = clf_decision_tree.predict(X_test_vectorized)\n",
        "y_pred_random_forest = clf_random_forest.predict(X_test_vectorized)\n",
        "\n",
        "# Inverse transform to get original labels (unencoded)\n",
        "y_test_original = label_encoder.inverse_transform(y_test)\n",
        "y_pred_decision_tree_original = label_encoder.inverse_transform(y_pred_decision_tree)\n",
        "y_pred_random_forest_original = label_encoder.inverse_transform(y_pred_random_forest)\n",
        "\n",
        "# Evaluate the models with original string labels\n",
        "print(\"Decision Tree Classifier Accuracy:\", accuracy_score(y_test_original, y_pred_decision_tree_original))\n",
        "print(\"Random Forest Classifier Accuracy:\", accuracy_score(y_test_original, y_pred_random_forest_original))\n",
        "\n",
        "# Detailed performance report with original string labels\n",
        "print(\"\\nDecision Tree Classifier Report:\\n\", classification_report(y_test_original, y_pred_decision_tree_original))\n",
        "print(\"\\nRandom Forest Classifier Report:\\n\", classification_report(y_test_original, y_pred_random_forest_original))"
      ],
      "metadata": {
        "id": "WCHF3rSSF2o7",
        "colab": {
          "base_uri": "https://localhost:8080/"
        },
        "outputId": "156ea226-daa7-4947-a8b7-3b9c922ce04b"
      },
      "execution_count": 11,
      "outputs": [
        {
          "output_type": "stream",
          "name": "stdout",
          "text": [
            "Decision Tree Classifier Accuracy: 0.9035181675867183\n",
            "Random Forest Classifier Accuracy: 0.9006509021998846\n",
            "\n",
            "Decision Tree Classifier Report:\n",
            "                           precision    recall  f1-score   support\n",
            "\n",
            "    Neutral or Ambiguous       0.86      0.85      0.86      9194\n",
            "                Not Hate       0.89      0.92      0.91     22951\n",
            "Offensive or Hate Speech       0.92      0.91      0.92     28540\n",
            "\n",
            "                accuracy                           0.90     60685\n",
            "               macro avg       0.89      0.89      0.89     60685\n",
            "            weighted avg       0.90      0.90      0.90     60685\n",
            "\n",
            "\n",
            "Random Forest Classifier Report:\n",
            "                           precision    recall  f1-score   support\n",
            "\n",
            "    Neutral or Ambiguous       0.93      0.82      0.87      9194\n",
            "                Not Hate       0.88      0.92      0.90     22951\n",
            "Offensive or Hate Speech       0.91      0.91      0.91     28540\n",
            "\n",
            "                accuracy                           0.90     60685\n",
            "               macro avg       0.91      0.88      0.89     60685\n",
            "            weighted avg       0.90      0.90      0.90     60685\n",
            "\n"
          ]
        }
      ]
    },
    {
      "cell_type": "markdown",
      "source": [
        "# Transform predictions to probabilities"
      ],
      "metadata": {
        "id": "8gtz83doSPXS"
      }
    },
    {
      "cell_type": "code",
      "source": [
        "# Ensure Decision Tree and Random Forest predictions are probabilities\n",
        "y_pred_dt_proba = clf_decision_tree.predict_proba(X_test_vectorized)\n",
        "y_pred_rf_proba = clf_random_forest.predict_proba(X_test_vectorized)\n",
        "\n",
        "# Average the probabilities across the three models\n",
        "# Note: You need to ensure the predictions are aligned and in the same order!\n",
        "avg_pred_proba = (y_pred_dt_proba + y_pred_rf_proba) / 2\n",
        "\n",
        "# Choose the class with the highest average probability\n",
        "y_pred_ensemble = np.argmax(avg_pred_proba, axis=1)"
      ],
      "metadata": {
        "id": "kCI4Ez-6027Q"
      },
      "execution_count": 12,
      "outputs": []
    },
    {
      "cell_type": "markdown",
      "source": [
        "# Ensemble and evaluate predictions (Average)"
      ],
      "metadata": {
        "id": "SWYB29HS55vV"
      }
    },
    {
      "cell_type": "code",
      "source": [
        "def ensemble_predictions(models, input_features):\n",
        "    # Assuming each model has a .predict_proba() method that returns probabilities for each class\n",
        "    predictions = [model.predict_proba(input_features) for model in models]\n",
        "    # Average the probabilities across all models\n",
        "    avg_predictions = np.mean(predictions, axis=0)\n",
        "    return avg_predictions\n",
        "\n",
        "# Ensemble the models and get predictions\n",
        "ensemble_pred = ensemble_predictions([clf_decision_tree, clf_random_forest], X_test_vectorized)"
      ],
      "metadata": {
        "id": "2UeitO5Yy2CP"
      },
      "execution_count": 13,
      "outputs": []
    },
    {
      "cell_type": "code",
      "source": [
        "# Convert averaged probabilities to class labels (encoded)\n",
        "y_pred_ensemble_from_custom = np.argmax(ensemble_pred, axis=1)\n",
        "\n",
        "# Convert class labels (encoded) to original string labels\n",
        "y_pred_ensemble_from_custom_original = label_encoder.inverse_transform(y_pred_ensemble_from_custom)\n",
        "\n",
        "# Now you can evaluate and generate the report for these ensemble predictions\n",
        "print(\"Custom Ensemble Model Accuracy:\", accuracy_score(y_test_original, y_pred_ensemble_from_custom_original))\n",
        "print(\"\\nCustom Ensemble Model Report:\\n\", classification_report(y_test_original, y_pred_ensemble_from_custom_original))\n"
      ],
      "metadata": {
        "id": "JKeoj6AIYkt6",
        "colab": {
          "base_uri": "https://localhost:8080/"
        },
        "outputId": "657413f1-7391-491f-e9e2-377317833fcc"
      },
      "execution_count": 14,
      "outputs": [
        {
          "output_type": "stream",
          "name": "stdout",
          "text": [
            "Custom Ensemble Model Accuracy: 0.9048858861333113\n",
            "\n",
            "Custom Ensemble Model Report:\n",
            "                           precision    recall  f1-score   support\n",
            "\n",
            "    Neutral or Ambiguous       0.86      0.85      0.86      9194\n",
            "                Not Hate       0.90      0.92      0.91     22951\n",
            "Offensive or Hate Speech       0.92      0.91      0.92     28540\n",
            "\n",
            "                accuracy                           0.90     60685\n",
            "               macro avg       0.90      0.89      0.89     60685\n",
            "            weighted avg       0.90      0.90      0.90     60685\n",
            "\n"
          ]
        }
      ]
    },
    {
      "cell_type": "markdown",
      "source": [
        "# Wrap the RoBERTa Model"
      ],
      "metadata": {
        "id": "IZBpmFtJk0oh"
      }
    },
    {
      "cell_type": "code",
      "source": [
        "from transformers import AutoTokenizer, AutoModelForSequenceClassification\n",
        "import torch\n",
        "\n",
        "class RoBERTaClassifier:\n",
        "    def __init__(self, threshold=0.1):\n",
        "        self.tokenizer = AutoTokenizer.from_pretrained(\"facebook/roberta-hate-speech-dynabench-r4-target\")\n",
        "        self.model = AutoModelForSequenceClassification.from_pretrained(\"facebook/roberta-hate-speech-dynabench-r4-target\")\n",
        "\n",
        "        # Move model to GPU if available\n",
        "        if torch.cuda.is_available():\n",
        "            self.model.cuda()\n",
        "\n",
        "        self.model.eval()  # Set model to evaluation mode\n",
        "        self.threshold = threshold\n",
        "\n",
        "    def predict_proba(self, texts, batch_size=128):\n",
        "        probs_list = []\n",
        "        for i in range(0, len(texts), batch_size):\n",
        "            batch_texts = texts[i:i+batch_size]\n",
        "            inputs = self.tokenizer(batch_texts, padding=True, truncation=True, max_length=512, return_tensors=\"pt\")\n",
        "\n",
        "            # Move inputs to GPU if available\n",
        "            if torch.cuda.is_available():\n",
        "                inputs = inputs.to('cuda')\n",
        "\n",
        "            with torch.no_grad():\n",
        "                outputs = self.model(**inputs)\n",
        "                probs = torch.nn.functional.softmax(outputs.logits, dim=-1).cpu().numpy()  # Move predictions back to CPU\n",
        "                probs_list.append(probs)\n",
        "        return np.concatenate(probs_list, axis=0)\n",
        "\n",
        "    def predict(self, texts, batch_size=128):\n",
        "        probs = self.predict_proba(texts, batch_size=batch_size)\n",
        "        predictions = []\n",
        "        for prob in probs:\n",
        "            if abs(prob[0] - prob[1]) < self.threshold:\n",
        "                predictions.append(0)  # Label as \"neutral or ambiguous\"\n",
        "            else:\n",
        "                predictions.append(2 if prob.argmax() == 1 else 1)  # Map to your dataset's labels\n",
        "        return np.array(predictions)"
      ],
      "metadata": {
        "id": "pK2BUnBdz_t9"
      },
      "execution_count": 92,
      "outputs": []
    },
    {
      "cell_type": "code",
      "source": [
        "# Initialize RoBERTa classifier with your threshold\n",
        "roberta_classifier = RoBERTaClassifier(threshold=0.1)\n",
        "\n",
        "# Note: Use GPU to run it faster\n",
        "# Convert X_test from numpy array to list if necessary for the tokenizer\n",
        "y_pred_roberta = roberta_classifier.predict(X_test.tolist(), batch_size=128)  # Adjust the batch size based on your system's capabilities"
      ],
      "metadata": {
        "id": "VsJIocVj0JHv"
      },
      "execution_count": 96,
      "outputs": []
    },
    {
      "cell_type": "markdown",
      "source": [
        "# RoBERTa prediction on the dataset"
      ],
      "metadata": {
        "id": "jTB6gobIz9ym"
      }
    },
    {
      "cell_type": "code",
      "source": [
        "y_pred_roberta_original = label_encoder.inverse_transform(y_pred_roberta)\n",
        "\n",
        "# Now you can evaluate and generate the report for these ensemble predictions\n",
        "print(\"Custom RoBERTa Model Accuracy:\", accuracy_score(y_test_original, y_pred_roberta_original))\n",
        "print(\"\\nCustom RoBERTa Model Report:\\n\", classification_report(y_test_original, y_pred_roberta_original))"
      ],
      "metadata": {
        "colab": {
          "base_uri": "https://localhost:8080/"
        },
        "id": "Tw6oso0Py4dV",
        "outputId": "9684a025-6adf-4d0a-d6f9-bdcc5d12bdba"
      },
      "execution_count": 97,
      "outputs": [
        {
          "output_type": "stream",
          "name": "stdout",
          "text": [
            "Custom RoBERTa Model Accuracy: 0.6775644722748619\n",
            "\n",
            "Custom RoBERTa Model Report:\n",
            "                           precision    recall  f1-score   support\n",
            "\n",
            "    Neutral or Ambiguous       0.17      0.02      0.04      9194\n",
            "                Not Hate       0.70      0.72      0.71     22951\n",
            "Offensive or Hate Speech       0.68      0.86      0.76     28540\n",
            "\n",
            "                accuracy                           0.68     60685\n",
            "               macro avg       0.52      0.53      0.50     60685\n",
            "            weighted avg       0.61      0.68      0.63     60685\n",
            "\n"
          ]
        }
      ]
    },
    {
      "cell_type": "markdown",
      "source": [
        "# Make predictions and evaluate majority voting"
      ],
      "metadata": {
        "id": "TSyGVD5P48Sd"
      }
    },
    {
      "cell_type": "code",
      "source": [
        "from scipy.stats import mode\n",
        "\n",
        "# Combine predictions into a single array (note that we're only majoring the predictions of these 3 models)\n",
        "combined_predictions = np.vstack((y_pred_decision_tree, y_pred_random_forest, y_pred_roberta))\n",
        "\n",
        "# Use mode to find the most common prediction for each sample\n",
        "y_pred_final, _ = mode(combined_predictions, axis=0)\n",
        "\n",
        "# Flatten the array to get a 1D array of final predictions\n",
        "y_pred_final = y_pred_final.flatten()\n"
      ],
      "metadata": {
        "id": "2rC6r19A4z4P"
      },
      "execution_count": 98,
      "outputs": []
    },
    {
      "cell_type": "code",
      "source": [
        "# Inverse transform to get original labels for evaluation\n",
        "y_test_original = label_encoder.inverse_transform(y_test)\n",
        "y_pred_final_original = label_encoder.inverse_transform(y_pred_final)\n",
        "\n",
        "# Evaluate\n",
        "print(\"Combined Model Accuracy:\", accuracy_score(y_test_original, y_pred_final_original))\n",
        "print(\"\\nCombined Model Report:\\n\", classification_report(y_test_original, y_pred_final_original))\n"
      ],
      "metadata": {
        "id": "TA4UvY0u44nv",
        "colab": {
          "base_uri": "https://localhost:8080/"
        },
        "outputId": "05bed90c-1768-4bab-db57-ac219cf7c387"
      },
      "execution_count": 99,
      "outputs": [
        {
          "output_type": "stream",
          "name": "stdout",
          "text": [
            "Combined Model Accuracy: 0.9142292164455796\n",
            "\n",
            "Combined Model Report:\n",
            "                           precision    recall  f1-score   support\n",
            "\n",
            "    Neutral or Ambiguous       0.91      0.83      0.87      9194\n",
            "                Not Hate       0.90      0.93      0.92     22951\n",
            "Offensive or Hate Speech       0.93      0.93      0.93     28540\n",
            "\n",
            "                accuracy                           0.91     60685\n",
            "               macro avg       0.91      0.90      0.90     60685\n",
            "            weighted avg       0.91      0.91      0.91     60685\n",
            "\n"
          ]
        }
      ]
    },
    {
      "cell_type": "markdown",
      "source": [
        "# Import Meta-Model"
      ],
      "metadata": {
        "id": "ymukktAC7e0o"
      }
    },
    {
      "cell_type": "code",
      "source": [
        "import joblib\n",
        "# Define the path to the saved model file\n",
        "model_file_path = '/content/meta_model.joblib'\n",
        "\n",
        "# Load the model using joblib\n",
        "meta_model = joblib.load(model_file_path)"
      ],
      "metadata": {
        "id": "Rbgu4l383-B8"
      },
      "execution_count": 101,
      "outputs": []
    },
    {
      "cell_type": "markdown",
      "source": [
        "# Generating Out-of-Sample Predictions for Decision Tree and Random Forest"
      ],
      "metadata": {
        "id": "vpZQuy9Q7Jy_"
      }
    },
    {
      "cell_type": "code",
      "source": [
        "# Code used for cross-validate the DT and RF predictions. Not needed since the model was imported\n",
        "'''\n",
        "from sklearn.model_selection import cross_val_predict\n",
        "\n",
        "# Decision Tree\n",
        "y_pred_decision_tree_train = cross_val_predict(clf_decision_tree, X_train_vectorized, y_train, cv=3, method='predict')\n",
        "\n",
        "# Random Forest\n",
        "y_pred_random_forest_train = cross_val_predict(clf_random_forest, X_train_vectorized, y_train, cv=3, method='predict')\n",
        "'''"
      ],
      "metadata": {
        "id": "SpIjzwJ67KH_"
      },
      "execution_count": null,
      "outputs": []
    },
    {
      "cell_type": "code",
      "source": [
        "# Code used to train the meta model. Not needed since the model was imported\n",
        "'''\n",
        "from sklearn.linear_model import LogisticRegression\n",
        "X_meta_train = np.column_stack((y_pred_decision_tree_train, y_pred_random_forest_train))\n",
        "\n",
        "# Train your meta-model\n",
        "meta_model = LogisticRegression()\n",
        "meta_model.fit(X_meta_train, y_train)\n",
        "'''"
      ],
      "metadata": {
        "colab": {
          "base_uri": "https://localhost:8080/",
          "height": 52
        },
        "id": "KNfhrkvl7igo",
        "outputId": "1a5a6bc3-51d7-4bd4-b58f-a0729a68cd06"
      },
      "execution_count": null,
      "outputs": [
        {
          "output_type": "execute_result",
          "data": {
            "text/plain": [
              "LogisticRegression()"
            ],
            "text/html": [
              "<style>#sk-container-id-1 {color: black;background-color: white;}#sk-container-id-1 pre{padding: 0;}#sk-container-id-1 div.sk-toggleable {background-color: white;}#sk-container-id-1 label.sk-toggleable__label {cursor: pointer;display: block;width: 100%;margin-bottom: 0;padding: 0.3em;box-sizing: border-box;text-align: center;}#sk-container-id-1 label.sk-toggleable__label-arrow:before {content: \"▸\";float: left;margin-right: 0.25em;color: #696969;}#sk-container-id-1 label.sk-toggleable__label-arrow:hover:before {color: black;}#sk-container-id-1 div.sk-estimator:hover label.sk-toggleable__label-arrow:before {color: black;}#sk-container-id-1 div.sk-toggleable__content {max-height: 0;max-width: 0;overflow: hidden;text-align: left;background-color: #f0f8ff;}#sk-container-id-1 div.sk-toggleable__content pre {margin: 0.2em;color: black;border-radius: 0.25em;background-color: #f0f8ff;}#sk-container-id-1 input.sk-toggleable__control:checked~div.sk-toggleable__content {max-height: 200px;max-width: 100%;overflow: auto;}#sk-container-id-1 input.sk-toggleable__control:checked~label.sk-toggleable__label-arrow:before {content: \"▾\";}#sk-container-id-1 div.sk-estimator input.sk-toggleable__control:checked~label.sk-toggleable__label {background-color: #d4ebff;}#sk-container-id-1 div.sk-label input.sk-toggleable__control:checked~label.sk-toggleable__label {background-color: #d4ebff;}#sk-container-id-1 input.sk-hidden--visually {border: 0;clip: rect(1px 1px 1px 1px);clip: rect(1px, 1px, 1px, 1px);height: 1px;margin: -1px;overflow: hidden;padding: 0;position: absolute;width: 1px;}#sk-container-id-1 div.sk-estimator {font-family: monospace;background-color: #f0f8ff;border: 1px dotted black;border-radius: 0.25em;box-sizing: border-box;margin-bottom: 0.5em;}#sk-container-id-1 div.sk-estimator:hover {background-color: #d4ebff;}#sk-container-id-1 div.sk-parallel-item::after {content: \"\";width: 100%;border-bottom: 1px solid gray;flex-grow: 1;}#sk-container-id-1 div.sk-label:hover label.sk-toggleable__label {background-color: #d4ebff;}#sk-container-id-1 div.sk-serial::before {content: \"\";position: absolute;border-left: 1px solid gray;box-sizing: border-box;top: 0;bottom: 0;left: 50%;z-index: 0;}#sk-container-id-1 div.sk-serial {display: flex;flex-direction: column;align-items: center;background-color: white;padding-right: 0.2em;padding-left: 0.2em;position: relative;}#sk-container-id-1 div.sk-item {position: relative;z-index: 1;}#sk-container-id-1 div.sk-parallel {display: flex;align-items: stretch;justify-content: center;background-color: white;position: relative;}#sk-container-id-1 div.sk-item::before, #sk-container-id-1 div.sk-parallel-item::before {content: \"\";position: absolute;border-left: 1px solid gray;box-sizing: border-box;top: 0;bottom: 0;left: 50%;z-index: -1;}#sk-container-id-1 div.sk-parallel-item {display: flex;flex-direction: column;z-index: 1;position: relative;background-color: white;}#sk-container-id-1 div.sk-parallel-item:first-child::after {align-self: flex-end;width: 50%;}#sk-container-id-1 div.sk-parallel-item:last-child::after {align-self: flex-start;width: 50%;}#sk-container-id-1 div.sk-parallel-item:only-child::after {width: 0;}#sk-container-id-1 div.sk-dashed-wrapped {border: 1px dashed gray;margin: 0 0.4em 0.5em 0.4em;box-sizing: border-box;padding-bottom: 0.4em;background-color: white;}#sk-container-id-1 div.sk-label label {font-family: monospace;font-weight: bold;display: inline-block;line-height: 1.2em;}#sk-container-id-1 div.sk-label-container {text-align: center;}#sk-container-id-1 div.sk-container {/* jupyter's `normalize.less` sets `[hidden] { display: none; }` but bootstrap.min.css set `[hidden] { display: none !important; }` so we also need the `!important` here to be able to override the default hidden behavior on the sphinx rendered scikit-learn.org. See: https://github.com/scikit-learn/scikit-learn/issues/21755 */display: inline-block !important;position: relative;}#sk-container-id-1 div.sk-text-repr-fallback {display: none;}</style><div id=\"sk-container-id-1\" class=\"sk-top-container\"><div class=\"sk-text-repr-fallback\"><pre>LogisticRegression()</pre><b>In a Jupyter environment, please rerun this cell to show the HTML representation or trust the notebook. <br />On GitHub, the HTML representation is unable to render, please try loading this page with nbviewer.org.</b></div><div class=\"sk-container\" hidden><div class=\"sk-item\"><div class=\"sk-estimator sk-toggleable\"><input class=\"sk-toggleable__control sk-hidden--visually\" id=\"sk-estimator-id-1\" type=\"checkbox\" checked><label for=\"sk-estimator-id-1\" class=\"sk-toggleable__label sk-toggleable__label-arrow\">LogisticRegression</label><div class=\"sk-toggleable__content\"><pre>LogisticRegression()</pre></div></div></div></div></div>"
            ]
          },
          "metadata": {},
          "execution_count": 56
        }
      ]
    },
    {
      "cell_type": "markdown",
      "source": [
        "# Prepare Test Data for Meta-Model"
      ],
      "metadata": {
        "id": "vMaxxqJvUK-r"
      }
    },
    {
      "cell_type": "code",
      "source": [
        "X_meta_test = np.column_stack((y_pred_decision_tree, y_pred_random_forest))\n",
        "y_pred_meta = meta_model.predict(X_meta_test)\n",
        "\n",
        "# Assuming 'label_encoder' is the LabelEncoder instance used to encode your labels\n",
        "y_pred_meta_original = label_encoder.inverse_transform(y_pred_meta)\n",
        "\n",
        "# Note: Ensure 'y_test_original' contains the true labels in their original string format\n",
        "print(\"Meta Model Accuracy:\", accuracy_score(y_test_original, y_pred_meta_original))\n",
        "print(\"\\nMeta Model Classification Report:\\n\", classification_report(y_test_original, y_pred_meta_original))"
      ],
      "metadata": {
        "colab": {
          "base_uri": "https://localhost:8080/"
        },
        "id": "G3y3yQ1z-kMz",
        "outputId": "6bac8ed7-f2a1-4b71-d87a-50fb8baa777a"
      },
      "execution_count": 109,
      "outputs": [
        {
          "output_type": "stream",
          "name": "stdout",
          "text": [
            "Meta Model Accuracy: 0.8955919914311609\n",
            "\n",
            "Meta Model Classification Report:\n",
            "                           precision    recall  f1-score   support\n",
            "\n",
            "    Neutral or Ambiguous       0.95      0.81      0.88      9194\n",
            "                Not Hate       0.85      0.93      0.89     22951\n",
            "Offensive or Hate Speech       0.92      0.90      0.91     28540\n",
            "\n",
            "                accuracy                           0.90     60685\n",
            "               macro avg       0.91      0.88      0.89     60685\n",
            "            weighted avg       0.90      0.90      0.90     60685\n",
            "\n"
          ]
        }
      ]
    },
    {
      "cell_type": "markdown",
      "source": [
        "# Integrating Meta-Model Predictions with Majority Voting"
      ],
      "metadata": {
        "id": "BjkfVn8zlFo7"
      }
    },
    {
      "cell_type": "code",
      "source": [
        "# Assuming y_pred_meta is already defined as shown in previous steps\n",
        "\n",
        "# Combine predictions from the Decision Tree, Random Forest, RoBERTa, and the meta-model\n",
        "combined_predictions_with_meta = np.vstack((y_pred_decision_tree, y_pred_random_forest, y_pred_roberta))\n",
        "\n",
        "# Use mode to find the most common prediction for each sample, considering the meta-model's predictions as well\n",
        "y_pred_final_with_meta, _ = mode(combined_predictions_with_meta, axis=0)\n",
        "\n",
        "# Flatten the array to get a 1D array of final predictions\n",
        "y_pred_final_with_meta = y_pred_final_with_meta.flatten()\n",
        "\n",
        "# Inverse transform to get original labels for evaluation\n",
        "y_test_original = label_encoder.inverse_transform(y_test)\n",
        "y_pred_final_with_meta_original = label_encoder.inverse_transform(y_pred_final_with_meta)\n",
        "\n",
        "# Evaluate\n",
        "print(\"Enhanced Ensemble with Meta-Model Accuracy:\", accuracy_score(y_test_original, y_pred_final_with_meta_original))\n",
        "print(\"\\nEnhanced Ensemble with Meta-Model Classification Report:\\n\", classification_report(y_test_original, y_pred_final_with_meta_original))\n"
      ],
      "metadata": {
        "colab": {
          "base_uri": "https://localhost:8080/"
        },
        "id": "9xtx-x7qlEs9",
        "outputId": "be377729-01ec-4c11-ab02-6aac30a39c6e"
      },
      "execution_count": 116,
      "outputs": [
        {
          "output_type": "stream",
          "name": "stdout",
          "text": [
            "Enhanced Ensemble with Meta-Model Accuracy: 0.9142292164455796\n",
            "\n",
            "Enhanced Ensemble with Meta-Model Classification Report:\n",
            "                           precision    recall  f1-score   support\n",
            "\n",
            "    Neutral or Ambiguous       0.91      0.83      0.87      9194\n",
            "                Not Hate       0.90      0.93      0.92     22951\n",
            "Offensive or Hate Speech       0.93      0.93      0.93     28540\n",
            "\n",
            "                accuracy                           0.91     60685\n",
            "               macro avg       0.91      0.90      0.90     60685\n",
            "            weighted avg       0.91      0.91      0.91     60685\n",
            "\n"
          ]
        }
      ]
    },
    {
      "cell_type": "code",
      "source": [
        "test_data = \"w0m3n 4r3 w3@k\"\n",
        "\n",
        "# Preprocess the test data for Decision Tree and Random Forest\n",
        "test_data_vectorized = cv.transform([test_data]).toarray()\n",
        "\n",
        "# Predict with Decision Tree and Random Forest\n",
        "y_pred_dt_test_sample = clf_decision_tree.predict(test_data_vectorized)\n",
        "y_pred_rf_test_sample = clf_random_forest.predict(test_data_vectorized)\n",
        "\n",
        "# Predict with RoBERTa (assuming the predict method is adapted for single samples or you manage batching if necessary)\n",
        "y_pred_roberta_test_sample = roberta_classifier.predict([test_data], batch_size=1)\n",
        "\n",
        "# Stack the predictions to form the feature set for the meta-model, EXCLUDING RoBERTa's predictions\n",
        "X_test_sample_meta = np.column_stack((y_pred_dt_test_sample, y_pred_rf_test_sample))\n",
        "\n",
        "# Predict with the meta-model\n",
        "y_pred_meta_test_sample = meta_model.predict(X_test_sample_meta)\n",
        "\n",
        "# If necessary, inverse transform to get the original label\n",
        "y_pred_meta_test_sample_original = label_encoder.inverse_transform(y_pred_meta_test_sample)\n",
        "\n",
        "print(\"Meta-model prediction for the test data:\", y_pred_meta_test_sample_original)"
      ],
      "metadata": {
        "colab": {
          "base_uri": "https://localhost:8080/"
        },
        "id": "sMXvoTcYl4x3",
        "outputId": "09a4caf6-7f6d-4beb-d304-87bcb3005f3a"
      },
      "execution_count": 146,
      "outputs": [
        {
          "output_type": "stream",
          "name": "stdout",
          "text": [
            "Meta-model prediction for the test data: ['Offensive or Hate Speech']\n"
          ]
        }
      ]
    }
  ]
}